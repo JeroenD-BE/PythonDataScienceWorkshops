{
 "cells": [
  {
   "cell_type": "markdown",
   "metadata": {
    "colab_type": "text",
    "id": "hL3LXxfoFuMJ"
   },
   "source": [
    "<figure>\n",
    "  <IMG SRC=\"https://www.capgemini.com/nl-nl/wp-content/themes/capgemini-2018-02/assets/images/logo.svg\" WIDTH=250 ALIGN=\"RIGHT\"/>\n",
    "</figure>\n",
    "\n",
    "# DS Python Workshop 1\n",
    "*By Alain Issa & Jeroen Dhondt*"
   ]
  },
  {
   "cell_type": "markdown",
   "metadata": {
    "colab_type": "text",
    "id": "KKpwyfvhrfv6"
   },
   "source": [
    "### How to use this notebook\n",
    "\n",
    " \n",
    "*   Double click any cell to edit it's content\n",
    "*   Click  ``` SHIFT+ENTER ```  to execute a cell\n",
    "\n",
    "### Resources\n",
    "Official documentation (bit hard to understand) [Link official documentation](https://docs.python.org/3/)\n",
    "\n",
    "Interactive website where you can quickly look up basic functions of Python: [Python Cheatsheet](https://www.pythoncheatsheet.org/)\n"
   ]
  },
  {
   "cell_type": "markdown",
   "metadata": {
    "colab_type": "text",
    "id": "NvBClzTbFuMK"
   },
   "source": [
    "\n",
    "---\n",
    "\n",
    "## Chapter 1: Variables in Python\n",
    "\n",
    "Variables are the base element to store information in a programming language. This first exercises will introduce you how to work with them.\n"
   ]
  },
  {
   "cell_type": "markdown",
   "metadata": {
    "colab_type": "text",
    "id": "hxnlm1zGkWYu"
   },
   "source": [
    "\n",
    "### Assigning values to a variable\n",
    "\n",
    "Creating variables of different types is simple in Python. Simply assign ('=') the value to a variable with the name of your choice.\n",
    "\n",
    "For instance: ( PS. Lines starting with # are comments. These are not executed and only are there to help the reader)"
   ]
  },
  {
   "cell_type": "code",
   "execution_count": 0,
   "metadata": {
    "colab": {},
    "colab_type": "code",
    "id": "Lds-8pmPFuML"
   },
   "outputs": [],
   "source": [
    "s = 'Hello'   \n",
    "# String\n",
    "\n",
    "i = 4        \n",
    "# Integer\n",
    "\n",
    "f = 3.14\n",
    "# Float\n",
    "\n",
    "b = True \n",
    "# Boolean"
   ]
  },
  {
   "cell_type": "markdown",
   "metadata": {
    "colab_type": "text",
    "id": "vD6Nc0HmFuMW"
   },
   "source": [
    "Here, `s`, `i`, f and `b` are all variables. Each variable has a different type, as shown above. \n",
    "\n",
    "\n",
    "To write the value of a variable to the screen, use the **`print`** function. You can add multiple variables to the `print` function by putting the text between quotes and separate the text string and the variable by a comma"
   ]
  },
  {
   "cell_type": "code",
   "execution_count": 66,
   "metadata": {
    "colab": {
     "base_uri": "https://localhost:8080/",
     "height": 68
    },
    "colab_type": "code",
    "id": "vpO69Gz9FuMW",
    "outputId": "cb85594d-2f1f-4bcc-9ae2-636b0a942154"
   },
   "outputs": [
    {
     "name": "stdout",
     "output_type": "stream",
     "text": [
      "Hello\n",
      "4\n",
      "Printing values: Hello 4 3.14 True\n"
     ]
    }
   ],
   "source": [
    "print(s)\n",
    "print(i)\n",
    "print('Printing values:', s, i, f, b)\n"
   ]
  },
  {
   "cell_type": "markdown",
   "metadata": {
    "colab_type": "text",
    "id": "9sty0uKXFuMa"
   },
   "source": [
    "To find out the type of a variable, you can use the function **`type()`**. Let's test it on our previous variables s and i\n",
    "\n",
    "\n",
    "\n"
   ]
  },
  {
   "cell_type": "code",
   "execution_count": 67,
   "metadata": {
    "colab": {
     "base_uri": "https://localhost:8080/",
     "height": 85
    },
    "colab_type": "code",
    "id": "JNm6oanzFuMb",
    "outputId": "f00b562e-511f-41f3-fc0e-8160a7faacf0"
   },
   "outputs": [
    {
     "name": "stdout",
     "output_type": "stream",
     "text": [
      "Hello is a  <class 'str'>\n",
      "4 is a  <class 'int'>\n",
      "3.14 is a  <class 'float'>\n",
      "True is a  <class 'bool'>\n"
     ]
    }
   ],
   "source": [
    "print(s, 'is a ', type(s))\n",
    "print(i, 'is a ', type(i))\n",
    "print(f, 'is a ', type(f))\n",
    "print(b, 'is a ', type(b))"
   ]
  },
  {
   "cell_type": "markdown",
   "metadata": {
    "colab_type": "text",
    "id": "nz5xTeQeaJEJ"
   },
   "source": [
    "### Exercise 1.1: Hello world!\n",
    "\n",
    "Let's start with a classic exercise: print a message to yourself. Make the output read 'Hello, ' and your own name.\n"
   ]
  },
  {
   "cell_type": "code",
   "execution_count": 105,
   "metadata": {
    "colab": {
     "base_uri": "https://localhost:8080/",
     "height": 34
    },
    "colab_type": "code",
    "id": "CUaVaW4raJEN",
    "outputId": "82f66bb3-267d-4e11-8456-6c146193f68a"
   },
   "outputs": [
    {
     "name": "stdout",
     "output_type": "stream",
     "text": [
      "Hello Jeroen\n"
     ]
    }
   ],
   "source": [
    "# insert code here\n",
    "\n",
    "print('Hello', name)"
   ]
  },
  {
   "cell_type": "markdown",
   "metadata": {
    "colab_type": "text",
    "id": "JbVnRLZoaJEf"
   },
   "source": [
    "\n",
    "### Combining integer and strings\n",
    "You can combine two strings by using the addition operator  (`+`)."
   ]
  },
  {
   "cell_type": "code",
   "execution_count": 50,
   "metadata": {
    "colab": {
     "base_uri": "https://localhost:8080/",
     "height": 34
    },
    "colab_type": "code",
    "id": "DwDfIjc3aJEi",
    "outputId": "40ffd631-c002-41a1-f906-4829c3b90df5"
   },
   "outputs": [
    {
     "name": "stdout",
     "output_type": "stream",
     "text": [
      "We are having a workshop on  Python\n"
     ]
    }
   ],
   "source": [
    "string1 = 'We are having a workshop on '\n",
    "string2 = 'Python'\n",
    "\n",
    "print(string1 + string2)\n"
   ]
  },
  {
   "cell_type": "markdown",
   "metadata": {
    "colab_type": "text",
    "id": "owojt4tKp03N"
   },
   "source": [
    "However, when mixing different types, we will get an error. "
   ]
  },
  {
   "cell_type": "code",
   "execution_count": 45,
   "metadata": {
    "colab": {
     "base_uri": "https://localhost:8080/",
     "height": 197
    },
    "colab_type": "code",
    "id": "eseB6Erkplni",
    "outputId": "6f40fb27-b6eb-48ce-ec45-70b1778261c6"
   },
   "outputs": [
    {
     "ename": "TypeError",
     "evalue": "ignored",
     "output_type": "error",
     "traceback": [
      "\u001b[0;31m---------------------------------------------------------------------------\u001b[0m",
      "\u001b[0;31mTypeError\u001b[0m                                 Traceback (most recent call last)",
      "\u001b[0;32m<ipython-input-45-86020c76c989>\u001b[0m in \u001b[0;36m<module>\u001b[0;34m()\u001b[0m\n\u001b[1;32m      2\u001b[0m \u001b[0minteger1\u001b[0m \u001b[0;34m=\u001b[0m \u001b[0;36m2018\u001b[0m\u001b[0;34m\u001b[0m\u001b[0m\n\u001b[1;32m      3\u001b[0m \u001b[0;34m\u001b[0m\u001b[0m\n\u001b[0;32m----> 4\u001b[0;31m \u001b[0mprint\u001b[0m\u001b[0;34m(\u001b[0m\u001b[0mstring3\u001b[0m \u001b[0;34m+\u001b[0m \u001b[0minteger1\u001b[0m\u001b[0;34m)\u001b[0m\u001b[0;34m\u001b[0m\u001b[0m\n\u001b[0m",
      "\u001b[0;31mTypeError\u001b[0m: must be str, not int"
     ]
    }
   ],
   "source": [
    "string3 = 'The year is '\n",
    "integer1 = 2018\n",
    "\n",
    "print(string3 + integer1)"
   ]
  },
  {
   "cell_type": "markdown",
   "metadata": {
    "colab_type": "text",
    "id": "8CPKeEl8p8Os"
   },
   "source": [
    "`TypeError: must be str, not int`: python tells us he expects a variable with type `str`, but received an `int` ( = `2018`)\n",
    "\n",
    "To prevent this, you need to cast the number  to a string first with `str() `.\n",
    "\n",
    "**Try it now on the previous code block!**\n"
   ]
  },
  {
   "cell_type": "markdown",
   "metadata": {
    "colab_type": "text",
    "id": "BQtbfU59aJEz"
   },
   "source": [
    "\n",
    "---\n",
    "\n",
    "### <a name=\"ex1_2\"></a>  Exercise 1.2: Print your name and starting year\n",
    "\n",
    "\n",
    "Create a variable to hold the year you started working at Capgemini and print a message with both your name and your starting year. \n",
    "\n",
    "For instance: 'My name is Jeroen and in 2016 I started working at Capgemini'."
   ]
  },
  {
   "cell_type": "code",
   "execution_count": 0,
   "metadata": {
    "colab": {},
    "colab_type": "code",
    "id": "vrlxpeHcaJE3"
   },
   "outputs": [],
   "source": [
    "# insert your answer for exercise 1.2 here\n"
   ]
  },
  {
   "cell_type": "markdown",
   "metadata": {
    "colab_type": "text",
    "id": "oNEwWRbOd7VT"
   },
   "source": [
    "<a href=\"#ex1_2answer\">Answer to Exercise 1.2</a>"
   ]
  },
  {
   "cell_type": "markdown",
   "metadata": {
    "colab_type": "text",
    "id": "Dyc2f-4caJFH"
   },
   "source": [
    "### Strings vs integers\n",
    "\n",
    "Can you guess what happens when you execute below code? "
   ]
  },
  {
   "cell_type": "code",
   "execution_count": 23,
   "metadata": {
    "colab": {
     "base_uri": "https://localhost:8080/",
     "height": 51
    },
    "colab_type": "code",
    "id": "_P7kbl1Fkzuh",
    "outputId": "9fe8640c-6cc5-4f04-9266-8dd9f5c5212b"
   },
   "outputs": [
    {
     "name": "stdout",
     "output_type": "stream",
     "text": [
      "4 + 5 = 45\n",
      "but also 4 + 5 = 9\n"
     ]
    }
   ],
   "source": [
    "s1 = '4'\n",
    "s2 = '5'\n",
    "\n",
    "print('4 + 5 =', s1 + s2)\n",
    "\n",
    "i1 = 4\n",
    "i2 = 5\n",
    "print('but also 4 + 5 =', i1 + i2)"
   ]
  },
  {
   "cell_type": "markdown",
   "metadata": {
    "colab_type": "text",
    "id": "npdS77NVlXRj"
   },
   "source": [
    "What happened? Well, s1 and s2 are strings and when using the + operator, they are concatinated\n",
    "i1 and a2 are integers however, and + simply adds up the numbers"
   ]
  },
  {
   "cell_type": "markdown",
   "metadata": {
    "colab_type": "text",
    "id": "NuFcmA7ltRwf"
   },
   "source": [
    "We showed that you can cast a variable of type `int` to the type `str`. However,  you can also make a string into a integer:\n"
   ]
  },
  {
   "cell_type": "code",
   "execution_count": 52,
   "metadata": {
    "colab": {
     "base_uri": "https://localhost:8080/",
     "height": 34
    },
    "colab_type": "code",
    "id": "rEMuZ2g3tfRj",
    "outputId": "b85061d7-4312-47f8-cd22-538749d75e86"
   },
   "outputs": [
    {
     "name": "stdout",
     "output_type": "stream",
     "text": [
      "25\n"
     ]
    }
   ],
   "source": [
    "s3 = '23'\n",
    "print(int(s3) + 2)"
   ]
  },
  {
   "cell_type": "markdown",
   "metadata": {
    "colab_type": "text",
    "id": "802_erDCvYKh"
   },
   "source": [
    "### Ask the user for input\n",
    "Let's make our next exercise a little interactive. With `input()` you can ask input from the user. "
   ]
  },
  {
   "cell_type": "code",
   "execution_count": 180,
   "metadata": {
    "colab": {
     "base_uri": "https://localhost:8080/",
     "height": 51
    },
    "colab_type": "code",
    "id": "WdiLm-G_vsD2",
    "outputId": "dae98b65-4689-45e0-cb7f-4cc950d0c260"
   },
   "outputs": [
    {
     "name": "stdout",
     "output_type": "stream",
     "text": [
      "What is your favorite cookie? Chocolate chip\n",
      "Your favorite cookie is: Chocolate chip\n"
     ]
    }
   ],
   "source": [
    "favorite = input(\"What is your favorite cookie? \")\n",
    "print(\"Your favorite cookie is:\", favorite)"
   ]
  },
  {
   "cell_type": "markdown",
   "metadata": {
    "colab_type": "text",
    "id": "1YSUTXOpuS4M"
   },
   "source": [
    "### Exercise 1.3: When can you retire? (Advanced) \n",
    "\n",
    "We will now use all that we have just seen. \n",
    "\n",
    "Ask the user for his year of birth. Next, use the input to calculate the retirement age (Let's assume for now that you can retire at age 67)\n"
   ]
  },
  {
   "cell_type": "code",
   "execution_count": 0,
   "metadata": {
    "colab": {},
    "colab_type": "code",
    "id": "vHoXXP2it5yQ"
   },
   "outputs": [],
   "source": [
    "# add your answer here, print a sentence like 'You can retire in 2055'\n"
   ]
  },
  {
   "cell_type": "markdown",
   "metadata": {
    "colab_type": "text",
    "id": "yToDQ4qKCze0"
   },
   "source": [
    "### <a name=\"ex1_4\"></a> Exercise 1.4: Guess the number (Expert)\n",
    "\n",
    "Let's create a little game with the random number generator of Python.\n",
    "\n",
    "We let Python generate a random number and store it. Next, we ask the user to guess the number. If he has guessed the wrong number, he is asked to try again. \n",
    "\n",
    "**!! This exercise assumes you have prior knowledge of conditional loop statements. \n",
    "Refresh your memory: [Link](https://www.w3schools.com/python/python_while_loops.asp) **\n",
    "\n",
    "\n",
    "\n",
    "\n"
   ]
  },
  {
   "cell_type": "code",
   "execution_count": 0,
   "metadata": {
    "colab": {},
    "colab_type": "code",
    "id": "pMGXw2_ADTLd"
   },
   "outputs": [],
   "source": [
    "import random  # https://docs.python.org/3/library/random.html#random.randint\n",
    "number = random.randint(1, 5) # generates a random integer 1 <= x <= 5 \n",
    "\n",
    "# add your answer here"
   ]
  },
  {
   "cell_type": "markdown",
   "metadata": {
    "colab_type": "text",
    "id": "uFnOEs_RbY9Q"
   },
   "source": [
    "<a href=\"#ex1_4answer\">Answer to Exercise 1.4</a>"
   ]
  },
  {
   "cell_type": "markdown",
   "metadata": {
    "colab_type": "text",
    "id": "aT7EXgALFuNS"
   },
   "source": [
    "---\n",
    "\n",
    "##  Chapter 2: Calculations and converting values with Python\n",
    "One of the strenghts of Python is its ability to quickly create little scripts.\n",
    "\n",
    "In this chapter, we want to use Python for calculating some useful conversions.\n"
   ]
  },
  {
   "cell_type": "markdown",
   "metadata": {
    "colab_type": "text",
    "id": "d6z4j-hPcIZD"
   },
   "source": [
    "\n",
    "### Base calculus\n",
    "\n",
    "All the basic operators are readily available in Python, without the need to call any functions.\n",
    "We already used + on integers, but you also have +, -, * (product), / (division), % (remainder) and ** (power)"
   ]
  },
  {
   "cell_type": "code",
   "execution_count": 0,
   "metadata": {
    "colab": {},
    "colab_type": "code",
    "id": "n3BGYVVNaJFO",
    "outputId": "e460889b-8b9d-4ed5-9daf-a9e8e1a1b214"
   },
   "outputs": [
    {
     "name": "stdout",
     "output_type": "stream",
     "text": [
      "Calculating a product can be done like this: 15\n",
      "The square of 15 is 225\n",
      "The remainder of 10 / 6 is 4\n"
     ]
    }
   ],
   "source": [
    "print('Calculating a product can be done like this:', 10 + 2 * 3 - 1)\n",
    "print('The square of 15 is', 15**2)\n",
    "print('The remainder of 10 / 6 is', 10%6)"
   ]
  },
  {
   "cell_type": "markdown",
   "metadata": {
    "colab_type": "text",
    "id": "j8-se5aN1MAH"
   },
   "source": [
    "These basic operators allow us to do quite some useful things already.\n",
    "\n",
    "Let's say you invested some money in Bitcoin. Today the rate is 1 BTC = 5656 EUR. \n",
    "\n",
    "Say you were very lucky and bought 3.5 bitcoins. What is that investment worth today?"
   ]
  },
  {
   "cell_type": "code",
   "execution_count": 70,
   "metadata": {
    "colab": {
     "base_uri": "https://localhost:8080/",
     "height": 34
    },
    "colab_type": "code",
    "id": "5EQ8IG-s01KR",
    "outputId": "72143dd7-cb23-45ed-8161-157a64b48dbf"
   },
   "outputs": [
    {
     "name": "stdout",
     "output_type": "stream",
     "text": [
      "My bitcoin are worth EUR 19796.0\n"
     ]
    }
   ],
   "source": [
    "rate_bitcoin = 5656\n",
    "my_bitcoin = 3.5\n",
    "\n",
    "print('My bitcoin are worth EUR', my_bitcoin * rate_bitcoin)"
   ]
  },
  {
   "cell_type": "markdown",
   "metadata": {
    "colab_type": "text",
    "id": "v2_u60Ju4UdS"
   },
   "source": [
    "### <a name=\"ex2_1\"></a> Exercise 2.1: Convert Farenheit to Celsius\n",
    "\n",
    "You find yourself in American watching the local weather forecast. Since the americans don't use the metric system, you now have to figure out how much 23° Farenheit is in Celsius.\n",
    "\n",
    "You (of course) know that the formula to convert farenheit to celsius is: \n",
    "\n",
    "`T(°C) = (T(°F) - 32) × 5/9`\n",
    "\n",
    "Write the code that converts a temperature of 23 °F into °C"
   ]
  },
  {
   "cell_type": "code",
   "execution_count": 0,
   "metadata": {
    "colab": {},
    "colab_type": "code",
    "id": "Z-SnpssE6NVv"
   },
   "outputs": [],
   "source": [
    "# Insert your answer for exercise 2.1 here\n"
   ]
  },
  {
   "cell_type": "markdown",
   "metadata": {
    "colab_type": "text",
    "id": "u75Wo-kEY6x-"
   },
   "source": [
    "<a href=\"#ex2_1answer\">Answer to Exercise 2.1</a>"
   ]
  },
  {
   "cell_type": "markdown",
   "metadata": {
    "colab_type": "text",
    "id": "us8el4pY7KLb"
   },
   "source": [
    "### <a name=\"ex2_2\"></a> Exercise 2.2: Convert seconds to a human-friendly format\n",
    "\n",
    "It is quite common in data sets to find a duration defined in (milli)seconds. For instance a server timeout is set to 7200 seconds.\n",
    "\n",
    "Write code that takes as input a number of seconds and prints a message of the format `'This equal to: x days, y hours, z minutes and u seconds'`\n",
    "\n",
    "*Hint: \n",
    "String formatters can make your live a little easier here. They use {} as placeholders to be filled in by variables given at the end. See the code below. Al that is left for you is to create the variables days, hours, minutes and seconds*\n"
   ]
  },
  {
   "cell_type": "code",
   "execution_count": 103,
   "metadata": {
    "colab": {
     "base_uri": "https://localhost:8080/",
     "height": 34
    },
    "colab_type": "code",
    "id": "D9oiTCdt9XZm",
    "outputId": "7b6439ad-fc47-4c16-bea0-af1833202821"
   },
   "outputs": [
    {
     "name": "stdout",
     "output_type": "stream",
     "text": [
      "This equals to: 1 days, 15 hours, 0 minutes and 32 seconds.\n"
     ]
    }
   ],
   "source": [
    "# insert code here to calculate the days, hours, minutes and (remaining) seconds\n",
    "input_seconds = 140432 # or use an input()\n",
    "\n",
    "# seconds = ..\n",
    "# minutes = ..\n",
    "\n",
    "print('This equals to: {} days, {} hours, {} minutes and {} seconds.'\n",
    "      .format(days, hours, minutes, seconds))"
   ]
  },
  {
   "cell_type": "markdown",
   "metadata": {
    "colab_type": "text",
    "id": "37MSt5JYa-nu"
   },
   "source": [
    "<a href=\"#ex2_2answer\">Answer to Exercise 2.2</a>"
   ]
  },
  {
   "cell_type": "markdown",
   "metadata": {
    "colab_type": "text",
    "id": "R7n2mAAnaJF7"
   },
   "source": [
    "### Dates \n",
    "\n",
    "However, Python also allows you to do much more complex calculations by loading specific libraries and using their pre-defined functions.\n",
    "\n",
    "Take dates for instance. We can easily calculate any date by using the functions provided in the `date` library [(Documentation)](https://docs.python.org/3/library/datetime.html#timedelta-objects).\n",
    "\n",
    "Summers in Belgium never seem long enough, so let's calculate exactly how many days our summer has:"
   ]
  },
  {
   "cell_type": "code",
   "execution_count": 126,
   "metadata": {
    "colab": {
     "base_uri": "https://localhost:8080/",
     "height": 34
    },
    "colab_type": "code",
    "id": "ELd7SAFaKe5v",
    "outputId": "8d35c9a5-62b7-41d8-8c46-c64092cdab7e"
   },
   "outputs": [
    {
     "name": "stdout",
     "output_type": "stream",
     "text": [
      "91 days, 0:00:00\n"
     ]
    }
   ],
   "source": [
    "from datetime import date\n",
    "\n",
    "start = date(2019,6,21) # June 21th\n",
    "end = date(2019,9,20) # September 20th\n",
    "\n",
    "print(end-start)"
   ]
  },
  {
   "cell_type": "markdown",
   "metadata": {
    "colab_type": "text",
    "id": "P-KKPc-CMQgO"
   },
   "source": [
    "### <a name=\"ex2_3\"></a> Exercise 2.3: It's almost Christmas time\n",
    "\n",
    "We are all looking forward to Christmas. Let's calculate exactly how many days we still have to wait! Print a message that tells us how many days still till Christmas.\n",
    "\n",
    "Fun(?) variation: want to start worrying about finding the perfect gift for your girlfriend/boyfriend/spouse? Calculate the days/hours/minutes till his/her birthday.\n",
    "\n",
    "\n",
    "*Hint: you can get the current date as follows: `date.today()`*"
   ]
  },
  {
   "cell_type": "code",
   "execution_count": 136,
   "metadata": {
    "colab": {
     "base_uri": "https://localhost:8080/",
     "height": 34
    },
    "colab_type": "code",
    "id": "mMl_vUKeNsk6",
    "outputId": "ec056f12-e46f-4502-bdc2-cb0ab1b73a94"
   },
   "outputs": [
    {
     "name": "stdout",
     "output_type": "stream",
     "text": [
      "Time till Christmas: 83 days, 0:00:00\n"
     ]
    }
   ],
   "source": [
    "# exercise 2.3 solution\n"
   ]
  },
  {
   "cell_type": "markdown",
   "metadata": {
    "colab_type": "text",
    "id": "u_SFsSb9aKiJ"
   },
   "source": [
    "<a href=\"#ex2_3answer\">Answer to Exercise 2.3</a>"
   ]
  },
  {
   "cell_type": "markdown",
   "metadata": {
    "colab_type": "text",
    "id": "T4FHtSDAQtOS"
   },
   "source": [
    "### Exercise 2.4: English distances (Advanced)\n",
    "\n",
    "The English enjoy making simple things complicated. We can help by writing a little script that can both convert distances from feet and inches to centimeter ** and the other way around**.\n",
    "\n",
    "First ask the user for the unit system he wants to convert from. Based on his answer, ask him to give the amount of feet & inches, or otherwise the amount of centimer.\n",
    "\n",
    "Return a message saying: ' 176 cm is 5 ft. 9 in. ' OR the reverse: '5 ft. 9 in. is 176 cm'\n",
    "\n",
    "*PS> 1 feet is 30.48 cm, and 1 feet = 12 inches *\n",
    "\n"
   ]
  },
  {
   "cell_type": "code",
   "execution_count": 0,
   "metadata": {
    "colab": {},
    "colab_type": "code",
    "id": "HEeQA3Xxd3Hb"
   },
   "outputs": [],
   "source": [
    "# answer to exercise 2.4"
   ]
  },
  {
   "cell_type": "markdown",
   "metadata": {
    "colab_type": "text",
    "id": "GA_QLhghRtn8"
   },
   "source": [
    "### <a name=\"ex2_5\"></a> Exercise 2.5: Measuring performance of functions(Expert)\n",
    "\n",
    "Another great use-case for Python is to run another program or script, and measure the time it takes.\n",
    "\n",
    "Let's write a script that compares the 2 date functions we have seen before: `date.today()` and `datetime.now()`. Do they have a similar performance? Or will one take longer than the other?\n",
    "\n",
    "*Hint: Use the datetime and timedelta classes. And stackoverflow is your friend*"
   ]
  },
  {
   "cell_type": "code",
   "execution_count": 0,
   "metadata": {
    "colab": {},
    "colab_type": "code",
    "id": "bj_ptHvtSEOj"
   },
   "outputs": [],
   "source": [
    "from datetime import datetime, timedelta\n",
    "total = timedelta(0)\n",
    "\n",
    "# insert your code here"
   ]
  },
  {
   "cell_type": "markdown",
   "metadata": {
    "colab_type": "text",
    "id": "D4z8e4jsFuNV"
   },
   "source": [
    "<a href=\"#ex2_5answer\">Answer to Exercise 2.5</a>"
   ]
  },
  {
   "cell_type": "markdown",
   "metadata": {
    "colab_type": "text",
    "id": "z2C3i4yn1eB0"
   },
   "source": [
    "## Chapter 3: Lists & loops\n",
    "\n",
    "In this chapter we will discuss some of the most important concepts for every programming language: data structures (we start with lists), interation over elements and control loops."
   ]
  },
  {
   "cell_type": "markdown",
   "metadata": {
    "colab_type": "text",
    "id": "8CWRGtxQfKny"
   },
   "source": [
    "### Introducing lists\n",
    "\n",
    "Lists contain a set of values. In Python, you can create an empty list by assigning a variable `list = []`\n",
    "In Python, a list can contain different data types without problem."
   ]
  },
  {
   "cell_type": "code",
   "execution_count": 195,
   "metadata": {
    "colab": {
     "base_uri": "https://localhost:8080/",
     "height": 51
    },
    "colab_type": "code",
    "id": "YMCPaAEAf7YO",
    "outputId": "584c66f1-548f-49f8-f36d-5fdca5279f0b"
   },
   "outputs": [
    {
     "name": "stdout",
     "output_type": "stream",
     "text": [
      "['Male', 40, True, 'Pilot']\n",
      "<class 'list'>\n"
     ]
    }
   ],
   "source": [
    "list_of_values = [\"Male\", 40, True, \"Pilot\"]\n",
    "print(list_of_values)\n",
    "print(type(list_of_values))"
   ]
  },
  {
   "cell_type": "markdown",
   "metadata": {
    "colab_type": "text",
    "id": "6eq926l8gSZ3"
   },
   "source": [
    "New items can be added by and we can use the `len()` function to find the lenght of the list."
   ]
  },
  {
   "cell_type": "code",
   "execution_count": 196,
   "metadata": {
    "colab": {
     "base_uri": "https://localhost:8080/",
     "height": 51
    },
    "colab_type": "code",
    "id": "_YB016AMgfsV",
    "outputId": "234addbd-fb67-46f7-af7c-91370c5dd67e"
   },
   "outputs": [
    {
     "name": "stdout",
     "output_type": "stream",
     "text": [
      "['Male', 40, True, 'Pilot', 'Fifth', 'Sixth']\n",
      "6\n"
     ]
    }
   ],
   "source": [
    "list_of_values = list_of_values + [\"Fifth\", \"Sixth\"]\n",
    "print(list_of_values)\n",
    "print(len(list_of_values))\n"
   ]
  },
  {
   "cell_type": "markdown",
   "metadata": {
    "colab_type": "text",
    "id": "fpSkmYnfiwZs"
   },
   "source": [
    "The elements of a list have a fixed order, and we can call a single element from the list by specifying his index.\n",
    "\n",
    "For example, the first element 'Male' can be called as follows: `list_of_values[0]`. Notice that the **index starts at 0**!\n",
    "\n",
    "Below we show how to update and delete a value from a list as well"
   ]
  },
  {
   "cell_type": "code",
   "execution_count": 199,
   "metadata": {
    "colab": {
     "base_uri": "https://localhost:8080/",
     "height": 231
    },
    "colab_type": "code",
    "id": "c6_G5X_yjLj9",
    "outputId": "1a9b01ad-f2e4-4667-c47f-917bae743877"
   },
   "outputs": [
    {
     "name": "stdout",
     "output_type": "stream",
     "text": [
      "Doctor\n"
     ]
    },
    {
     "ename": "IndexError",
     "evalue": "ignored",
     "output_type": "error",
     "traceback": [
      "\u001b[0;31m---------------------------------------------------------------------------\u001b[0m",
      "\u001b[0;31mIndexError\u001b[0m                                Traceback (most recent call last)",
      "\u001b[0;32m<ipython-input-199-e246dc7ae6fd>\u001b[0m in \u001b[0;36m<module>\u001b[0;34m()\u001b[0m\n\u001b[1;32m      2\u001b[0m \u001b[0mprint\u001b[0m\u001b[0;34m(\u001b[0m\u001b[0mfourth\u001b[0m\u001b[0;34m)\u001b[0m\u001b[0;34m\u001b[0m\u001b[0m\n\u001b[1;32m      3\u001b[0m \u001b[0mlist_of_values\u001b[0m\u001b[0;34m[\u001b[0m\u001b[0;36m3\u001b[0m\u001b[0;34m]\u001b[0m \u001b[0;34m=\u001b[0m \u001b[0;34m'Doctor'\u001b[0m \u001b[0;31m# replace a value\u001b[0m\u001b[0;34m\u001b[0m\u001b[0m\n\u001b[0;32m----> 4\u001b[0;31m \u001b[0;32mdel\u001b[0m \u001b[0mlist_of_values\u001b[0m\u001b[0;34m[\u001b[0m\u001b[0;36m4\u001b[0m\u001b[0;34m]\u001b[0m \u001b[0;31m# delete the fifth element\u001b[0m\u001b[0;34m\u001b[0m\u001b[0m\n\u001b[0m\u001b[1;32m      5\u001b[0m \u001b[0mprint\u001b[0m\u001b[0;34m(\u001b[0m\u001b[0mlist_of_values\u001b[0m\u001b[0;34m)\u001b[0m\u001b[0;34m\u001b[0m\u001b[0m\n",
      "\u001b[0;31mIndexError\u001b[0m: list assignment index out of range"
     ]
    }
   ],
   "source": [
    "fourth = list_of_values[3] # notice the index is 3!\n",
    "print(fourth)\n",
    "list_of_values[3] = 'Doctor' # replace a value\n",
    "del list_of_values[4] # delete the fifth element\n",
    "print(list_of_values)"
   ]
  },
  {
   "cell_type": "markdown",
   "metadata": {
    "colab_type": "text",
    "id": "Dzxvg2Z8gr7U"
   },
   "source": [
    "### The for-loop\n",
    "\n",
    "The for-loop is a very powerful tool that allows us to repeatedly do the same action on a different element from a list, dictionary or series of numbers."
   ]
  },
  {
   "cell_type": "code",
   "execution_count": 204,
   "metadata": {
    "colab": {
     "base_uri": "https://localhost:8080/",
     "height": 187
    },
    "colab_type": "code",
    "id": "vK5v298vgyOn",
    "outputId": "f9eaddc4-f495-44bc-fecf-d34ba2c82dac"
   },
   "outputs": [
    {
     "name": "stdout",
     "output_type": "stream",
     "text": [
      "Male\n",
      "40\n",
      "True\n",
      "Doctor\n",
      "------\n",
      "0\n",
      "1\n",
      "2\n",
      "3\n",
      "4\n"
     ]
    }
   ],
   "source": [
    "for value in list_of_values:\n",
    "  print(value)\n",
    "    \n",
    "print(\"------\")\n",
    "\n",
    "for element in range(5):\n",
    "  print(element)"
   ]
  },
  {
   "cell_type": "markdown",
   "metadata": {
    "colab_type": "text",
    "id": "8fXuBzptldfd"
   },
   "source": [
    "### Exercise 3.1: Climate of Brussels\n",
    "\n",
    "Given the list of values that represent the average monthly temperature and hours of sunshine. Calculate the following:\n",
    "\n",
    "*   Total hours of sunshine in a year\n",
    "*   Average temperature of Brussels over a year\n",
    "*   The average temperature of the month June\n",
    "*   **(Advanced)** Return the month with the most sunshine\n",
    "\n"
   ]
  },
  {
   "cell_type": "code",
   "execution_count": 0,
   "metadata": {
    "colab": {},
    "colab_type": "code",
    "id": "sKHQ0ZbbmDqJ"
   },
   "outputs": [],
   "source": [
    "temperatures = [5.7, 6.6, 10.4, 14.2, 18.1, 20.6, 23.0, 22.6, 19.0, 14.7, 9.5, 6.1]\n",
    "sunshine = [59, 77, 114, 159, 191, 188, 201, 190, 143, 113, 66, 45]\n",
    "\n",
    "# print out the requested values"
   ]
  },
  {
   "cell_type": "markdown",
   "metadata": {
    "colab_type": "text",
    "id": "QbIYZlR9oeVi"
   },
   "source": [
    "exercise on if loop\n",
    "( * * ) , filter positives\n",
    "( * * * ) remove duplicates"
   ]
  },
  {
   "cell_type": "markdown",
   "metadata": {
    "colab_type": "text",
    "id": "9YqEzVVHoqom"
   },
   "source": [
    "### If-statements"
   ]
  },
  {
   "cell_type": "markdown",
   "metadata": {
    "colab_type": "text",
    "id": "7eInceozonZh"
   },
   "source": [
    "### Exercise 3.2 (Advanced)\n",
    "\n",
    "From a list of names, print out only the names with a lenght shorter than 6 characters"
   ]
  },
  {
   "cell_type": "code",
   "execution_count": 0,
   "metadata": {
    "colab": {},
    "colab_type": "code",
    "id": "2rS8-QjPodpk"
   },
   "outputs": [],
   "source": []
  },
  {
   "cell_type": "markdown",
   "metadata": {
    "colab_type": "text",
    "id": "EtinrUsuo69b"
   },
   "source": [
    "### Exercise 3.3 (Advanced)\n",
    "\n",
    "From the same list of names, find any duplicate names and remove them. Print out the new list of names."
   ]
  },
  {
   "cell_type": "code",
   "execution_count": 0,
   "metadata": {
    "colab": {},
    "colab_type": "code",
    "id": "mo5G5sn1o6J3"
   },
   "outputs": [],
   "source": []
  },
  {
   "cell_type": "markdown",
   "metadata": {
    "colab_type": "text",
    "id": "jquLeH9eggFd"
   },
   "source": [
    "### Matrices: 2-dimensional lists\n",
    "\n",
    "TODO"
   ]
  },
  {
   "cell_type": "code",
   "execution_count": 0,
   "metadata": {
    "colab": {},
    "colab_type": "code",
    "id": "quysWa4fgy1h"
   },
   "outputs": [],
   "source": []
  },
  {
   "cell_type": "markdown",
   "metadata": {
    "colab_type": "text",
    "id": "xvmbqxWbFuNW"
   },
   "source": [
    "### <a name=\"ex4\"></a> Exercise 4, Exploring data from a dictionary (Alain)\n",
    "\n",
    "*   Load / create dictionary (no explanations of the code)\n",
    "*   Visualize the data (no explanations)\n",
    "*   Explain how to print out\n",
    "\n",
    "\n"
   ]
  },
  {
   "cell_type": "code",
   "execution_count": 0,
   "metadata": {
    "colab": {},
    "colab_type": "code",
    "id": "KsscTqMhFuNY"
   },
   "outputs": [],
   "source": []
  },
  {
   "cell_type": "markdown",
   "metadata": {
    "colab_type": "text",
    "id": "G65C_gncFuNa"
   },
   "source": [
    "<a href=\"#ex3answer\">Answer to Exercise 3</a>"
   ]
  },
  {
   "cell_type": "markdown",
   "metadata": {
    "colab_type": "text",
    "id": "5Pv0pV5l2H_1"
   },
   "source": [
    "### <a name=\"ex5\"></a> Exercise 5, Functions (Alain)\n",
    "\n",
    "- definition of function\n",
    "- Explain about: how to create and call a simple function\n",
    "\n",
    "\n",
    "(x) print the lenght of the sentence\n",
    "\n",
    "(xx) do something **about**"
   ]
  },
  {
   "cell_type": "markdown",
   "metadata": {
    "colab_type": "text",
    "id": "GmArxnCfFuNp"
   },
   "source": [
    "## Answers for the exercises"
   ]
  },
  {
   "cell_type": "markdown",
   "metadata": {
    "colab_type": "text",
    "id": "pVkcfx1gFuNp"
   },
   "source": [
    "<a name=\"ex1_2answer\">Answer to Exercise 1.2</a>"
   ]
  },
  {
   "cell_type": "code",
   "execution_count": 51,
   "metadata": {
    "colab": {
     "base_uri": "https://localhost:8080/",
     "height": 51
    },
    "colab_type": "code",
    "id": "zaqgaC9cFuNp",
    "outputId": "105f281b-a611-4b6e-f8f9-f69d8c3263cf"
   },
   "outputs": [
    {
     "name": "stdout",
     "output_type": "stream",
     "text": [
      "My name is Jeroen and in 2016 I started working at Capgemini\n",
      "My name is Jeroen and in 2016 I started working at Capgemini\n"
     ]
    }
   ],
   "source": [
    "name = 'Jeroen'\n",
    "year = 2016\n",
    "\n",
    "# using str() to cast the integer to a string\n",
    "print('My name is ' + name + ' and in '+ str(year) + ' I started working at Capgemini')\n",
    "\n",
    "# or make advantage of the print function with parameters:\n",
    "print('My name is', name, 'and in', year, 'I started working at Capgemini')"
   ]
  },
  {
   "cell_type": "markdown",
   "metadata": {
    "colab_type": "text",
    "id": "iS8LlnYUFuNs"
   },
   "source": [
    "<a href=\"#ex1_2\">Back to Exercise 1.2</a>\n",
    "\n",
    "<a name=\"ex1_4answer\">Answer to Exercise 1.4</a>"
   ]
  },
  {
   "cell_type": "code",
   "execution_count": 182,
   "metadata": {
    "colab": {
     "base_uri": "https://localhost:8080/",
     "height": 204
    },
    "colab_type": "code",
    "id": "0d5YMPStbohJ",
    "outputId": "9c47d716-e550-43e1-9033-32e2719da8eb"
   },
   "outputs": [
    {
     "name": "stdout",
     "output_type": "stream",
     "text": [
      "Try again, guess the number? 2\n",
      "False\n",
      "Try again, guess the number? 4\n",
      "False\n",
      "Try again, guess the number? 1\n",
      "False\n",
      "Try again, guess the number? 3\n",
      "False\n",
      "Try again, guess the number? 5\n",
      "True\n",
      "Congrats, you found the number!\n"
     ]
    }
   ],
   "source": [
    "import random  # https://docs.python.org/3/library/random.html#random.randint\n",
    "number = random.randint(1, 5) # generates a random integer 1 <= x <= 5 \n",
    "guess = -1\n",
    "\n",
    "while(number != guess):\n",
    "  guess = int(input(\"Try again, guess the number? \"))\n",
    "  print(number == guess)\n",
    "  \n",
    "print('Congrats, you found the number!')"
   ]
  },
  {
   "cell_type": "markdown",
   "metadata": {
    "colab_type": "text",
    "id": "Vekwmdrzbo8o"
   },
   "source": [
    "<a href=\"#ex1_4\">Back to Exercise 1.4</a>\n",
    "\n",
    "<a name=\"ex2_1answer\">Answer to Exercise 2.1</a>"
   ]
  },
  {
   "cell_type": "code",
   "execution_count": 75,
   "metadata": {
    "colab": {
     "base_uri": "https://localhost:8080/",
     "height": 34
    },
    "colab_type": "code",
    "id": "sRHdnjLOFuNt",
    "outputId": "88d58fdb-e54f-464b-c737-6c6584eb0e68"
   },
   "outputs": [
    {
     "name": "stdout",
     "output_type": "stream",
     "text": [
      "Tomorrow's temperature will be -5.0 °C\n"
     ]
    }
   ],
   "source": [
    "farenheit = 23.0\n",
    "celsius = (farenheit - 32) * 5/9\n",
    "\n",
    "print('Tomorrow\\'s temperature will be', celsius, '°C')"
   ]
  },
  {
   "cell_type": "markdown",
   "metadata": {
    "colab_type": "text",
    "id": "3sFAWXbibjtP"
   },
   "source": []
  },
  {
   "cell_type": "code",
   "execution_count": 0,
   "metadata": {
    "colab": {},
    "colab_type": "code",
    "id": "H8HgAI3EbkbY"
   },
   "outputs": [],
   "source": []
  },
  {
   "cell_type": "markdown",
   "metadata": {
    "colab_type": "text",
    "id": "4GlVZyJRFuNv"
   },
   "source": [
    "<a href=\"#ex2_1\">Back to Exercise 2.1</a>\n",
    "\n",
    "<a name=\"ex2_2answer\">Answer to Exercise 2.2</a>"
   ]
  },
  {
   "cell_type": "code",
   "execution_count": 0,
   "metadata": {
    "colab": {},
    "colab_type": "code",
    "id": "KmnCZ640aUMt"
   },
   "outputs": [],
   "source": [
    "total_seconds = int(input('Give the total seconds:'))\n",
    "\n",
    "seconds = total_seconds % 60\n",
    "total_minutes = int(total_seconds / 60)\n",
    "minutes = total_minutes % 60\n",
    "total_hours = int(total_minutes / 60)\n",
    "hours = int(total_hours % 24)\n",
    "days = int(total_hours / 24)\n",
    "\n",
    "print('This equals to: {} days, {} hours, {} minutes and {} seconds.'\n",
    "      .format(days, hours, minutes, seconds))"
   ]
  },
  {
   "cell_type": "markdown",
   "metadata": {
    "colab_type": "text",
    "id": "HiGU6iWkacId"
   },
   "source": [
    "<a href=\"#ex2_2\">Back to Exercise 2.2</a>\n",
    "\n",
    "<a name=\"ex2_3answer\">Answer to Exercise 2.3</a>"
   ]
  },
  {
   "cell_type": "code",
   "execution_count": 181,
   "metadata": {
    "colab": {
     "base_uri": "https://localhost:8080/",
     "height": 34
    },
    "colab_type": "code",
    "id": "79iukp-WFuNv",
    "outputId": "88ab2b03-934b-47e2-d872-f173f48ccc38"
   },
   "outputs": [
    {
     "name": "stdout",
     "output_type": "stream",
     "text": [
      "Days till Christmas: 83 days, 0:00:00\n"
     ]
    }
   ],
   "source": [
    "today = date.today()\n",
    "christmas = date(2018,12,25)\n",
    "\n",
    "print('Days till Christmas:', (christmas - today))"
   ]
  },
  {
   "cell_type": "markdown",
   "metadata": {
    "colab_type": "text",
    "id": "D8LNHRZrFuNx"
   },
   "source": [
    "<a href=\"#ex2_3\">Back to Exercise 2.3</a>\n",
    "\n",
    "<a name=\"ex2_5answer\">Answer to Exercise 2.5</a>"
   ]
  },
  {
   "cell_type": "code",
   "execution_count": 0,
   "metadata": {
    "colab": {},
    "colab_type": "code",
    "id": "SC_6AwzbFuNy"
   },
   "outputs": [],
   "source": [
    "from datetime import datetime, timedelta\n",
    "total = timedelta(0)\n",
    "runs = 10\n",
    "\n",
    "for j in range(0, runs):\n",
    "  d1 = datetime.now()\n",
    "\n",
    "  for i in range(0, 1000000):\n",
    "#     today = date.today()\n",
    "    now = datetime.now()\n",
    "    \n",
    "  d2 = datetime.now() \n",
    "  diff = d2 - d1\n",
    "  print(diff)\n",
    "  total = total + diff\n",
    "  \n",
    "print('Average time:', total/runs)"
   ]
  },
  {
   "cell_type": "markdown",
   "metadata": {
    "colab_type": "text",
    "id": "syvWzmFCFuNz"
   },
   "source": [
    "<a href=\"#ex2_5\">Back to Exercise 2.5</a>\n",
    "\n",
    "<a name=\"ex5answer\">Answer to Exercise 5</a>"
   ]
  },
  {
   "cell_type": "code",
   "execution_count": 0,
   "metadata": {
    "colab": {},
    "colab_type": "code",
    "id": "M4EI_zhfFuN0"
   },
   "outputs": [],
   "source": [
    "gold = [46, 38, 29, 24, 13, 11, 11, 8, 8, 7, 107]\n",
    "countries = ['USA', 'CHN', 'GBR', 'RUS', 'KOR', 'GER', 'FRA', 'ITA', 'HUN', 'AUS', 'OTHER']\n",
    "plt.pie(gold, labels = countries, colors = ['Gold', 'MediumBlue', 'SpringGreen', 'BlueViolet'])\n",
    "plt.axis('equal');"
   ]
  },
  {
   "cell_type": "markdown",
   "metadata": {
    "colab_type": "text",
    "id": "n5aZ0RKFFuN4"
   },
   "source": [
    "<a href=\"#ex5\">Back to Exercise 5</a>\n",
    "\n",
    "<a name=\"ex6answer\">Answer to Exercise 6</a>"
   ]
  },
  {
   "cell_type": "code",
   "execution_count": 0,
   "metadata": {
    "colab": {},
    "colab_type": "code",
    "id": "7sSVHrDtFuN4"
   },
   "outputs": [],
   "source": []
  },
  {
   "cell_type": "markdown",
   "metadata": {
    "colab_type": "text",
    "id": "zlA8sx5rFuN7"
   },
   "source": [
    "<a href=\"#ex6\">Back to Exercise 6</a>"
   ]
  }
 ],
 "metadata": {
  "colab": {
   "collapsed_sections": [
    "hxnlm1zGkWYu",
    "nz5xTeQeaJEJ",
    "JbVnRLZoaJEf",
    "BQtbfU59aJEz",
    "Dyc2f-4caJFH",
    "802_erDCvYKh",
    "1YSUTXOpuS4M",
    "yToDQ4qKCze0",
    "d6z4j-hPcIZD",
    "xvmbqxWbFuNW",
    "GmArxnCfFuNp"
   ],
   "name": "DS_Python_Workshop1b.ipynb",
   "provenance": [],
   "version": "0.3.2"
  },
  "kernelspec": {
   "display_name": "Python 3",
   "language": "python",
   "name": "python3"
  },
  "language_info": {
   "codemirror_mode": {
    "name": "ipython",
    "version": 3
   },
   "file_extension": ".py",
   "mimetype": "text/x-python",
   "name": "python",
   "nbconvert_exporter": "python",
   "pygments_lexer": "ipython3",
   "version": "3.6.5"
  }
 },
 "nbformat": 4,
 "nbformat_minor": 1
}
