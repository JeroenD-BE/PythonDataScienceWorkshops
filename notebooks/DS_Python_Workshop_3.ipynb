{
  "nbformat": 4,
  "nbformat_minor": 0,
  "metadata": {
    "colab": {
      "name": "DS_Python_Workshop_3_Final.ipynb",
      "version": "0.3.2",
      "provenance": [],
      "collapsed_sections": [],
      "toc_visible": true
    },
    "kernelspec": {
      "display_name": "Python 3",
      "language": "python",
      "name": "python3"
    }
  },
  "cells": [
    {
      "metadata": {
        "colab_type": "text",
        "id": "hL3LXxfoFuMJ"
      },
      "cell_type": "markdown",
      "source": [
        "<figure>\n",
        "  <IMG SRC=\"https://www.capgemini.com/nl-nl/wp-content/themes/capgemini-2018-02/assets/images/logo.svg\" WIDTH=250 ALIGN=\"RIGHT\"/>\n",
        "</figure>\n",
        "\n",
        "# DS Python Workshop 3: Time Series\n",
        "*By Jeroen Dhondt & Allain Issa *"
      ]
    },
    {
      "metadata": {
        "colab_type": "text",
        "id": "KKpwyfvhrfv6"
      },
      "cell_type": "markdown",
      "source": [
        "### How to use this notebook\n",
        "\n",
        " \n",
        "*   Double click any cell to edit it's content\n",
        "*   Click ```SHIFT+ENTER```  to execute a \n",
        "*  The exercises have a difficulty assigned to them, from * to *** \n",
        "\n",
        "### Resources\n",
        "Official documentation (can be a bit hard to understand) [Link official documentation](https://docs.python.org/3/)\n",
        "Pandas official documentation (search box left bottom) [Pandas](https://pandas.pydata.org/pandas-docs/stable/)\n",
        "\n",
        "But in reality: just google or use stack overflow `'pandas do x'`\n"
      ]
    },
    {
      "metadata": {
        "id": "q1jwEE1KhdSR",
        "colab_type": "text"
      },
      "cell_type": "markdown",
      "source": [
        "#Chapter 1: Introducing Time Series\n",
        "A time series is a set of data where the values are respresented over time. The index is thus represented as a time or date unit. For instance the hourly stock exchange index or the daily number of visitors to a museum."
      ]
    },
    {
      "metadata": {
        "id": "G_hUsmdohdSS",
        "colab_type": "text"
      },
      "cell_type": "markdown",
      "source": [
        "**Important** to start, download all the data files.\n",
        "If that doesn't work:  let the Jupyter notebook know where to look for the data files. Make sure to use double dashes \\\\\\\\ in your path name as shown in the example."
      ]
    },
    {
      "metadata": {
        "id": "_WYsd_rkhdSU",
        "colab_type": "code",
        "colab": {}
      },
      "cell_type": "code",
      "source": [
        "!curl -O https://raw.githubusercontent.com/JeroenD-BE/PythonDataScienceWorkshops/master/data/climate-belgium.csv\n",
        "!curl -O https://raw.githubusercontent.com/JeroenD-BE/PythonDataScienceWorkshops/master/data/new-year-resolutions.csv\n",
        "!curl -O https://raw.githubusercontent.com/JeroenD-BE/PythonDataScienceWorkshops/master/data/time_serie_1.xlsx\n",
        "\n",
        "# if that doesn't work:\n",
        "#import os\n",
        "#data_folder = \"C:\\\\Users\\\\...\\\\data\"\n",
        "#os.chdir(data_folder)"
      ],
      "execution_count": 0,
      "outputs": []
    },
    {
      "metadata": {
        "id": "LB_8VtiZhdSX",
        "colab_type": "text"
      },
      "cell_type": "markdown",
      "source": [
        "## Importing the data and cleaning\n",
        "\n",
        "We begin with reading our new data file \"new-year-resolutions.csv\", specifying that the seperator character is a comma (,) in the file. \n",
        "\n",
        "The data here is the **relative popularity of search terms on Google** (found via Google Trends). The popularity of three keywords were compared over a monthly basis: diet, gym and finance. The presumed expectation of the data is that we will see an increase in popularity of 'diet' and 'gym' around the New Year's period because of people making their good resolutions for the new year. Let us find out together!"
      ]
    },
    {
      "metadata": {
        "id": "1QBv56oUhdSZ",
        "colab_type": "code",
        "colab": {}
      },
      "cell_type": "code",
      "source": [
        "import pandas as pd\n",
        "\n",
        "resolutions = pd.read_csv(\"new-year-resolutions.csv\",sep=\",\")\n",
        "print(resolutions.info())\n",
        "resolutions.head()"
      ],
      "execution_count": 0,
      "outputs": []
    },
    {
      "metadata": {
        "id": "mxNzKulBi6lO",
        "colab_type": "text"
      },
      "cell_type": "markdown",
      "source": [
        "With the data loaded, we now reformat our data to have the preferred column names and index. \n",
        "\n",
        "PS> Remember, we use `inplace=True` so the operation on the data set is done directly on the object. With `inplace=False` (the default value), the operation would create and return a new copy of the data instead!"
      ]
    },
    {
      "metadata": {
        "id": "YvgUx1gjhdSi",
        "colab_type": "code",
        "colab": {}
      },
      "cell_type": "code",
      "source": [
        "resolutions.columns = [\"month\",\"diet\",\"gym\",\"finance\"]\n",
        "resolutions.set_index(\"month\", inplace=True)\n",
        "\n",
        "resolutions.head()"
      ],
      "execution_count": 0,
      "outputs": []
    },
    {
      "metadata": {
        "id": "cnaQjsfuhdSn",
        "colab_type": "text"
      },
      "cell_type": "markdown",
      "source": [
        "## Using the DateTimeIndex of Pandas\n",
        "\n",
        "The data looks much better now. However, we still have a problem with our index:"
      ]
    },
    {
      "metadata": {
        "id": "MnNrjj-LhdSo",
        "colab_type": "code",
        "colab": {}
      },
      "cell_type": "code",
      "source": [
        "resolutions.index"
      ],
      "execution_count": 0,
      "outputs": []
    },
    {
      "metadata": {
        "id": "Q_nIp-X9hdSt",
        "colab_type": "text"
      },
      "cell_type": "markdown",
      "source": [
        "The program does not recognize it is a date (see above, `dtype='object'`). Making the index of the **type DateTimeIndex** will give us a lot of powerful tools to work with this data. \n",
        "\n",
        "A single String object can be transformed to DateTime object with the `pd.to_datatime(..)`. We transform all elements of the index of our data set here in one line of code:"
      ]
    },
    {
      "metadata": {
        "id": "6QhZv6vihdSu",
        "colab_type": "code",
        "colab": {}
      },
      "cell_type": "code",
      "source": [
        "resolutions.index = pd.to_datetime(resolutions.index)\n",
        "\n",
        "print(resolutions.index)\n",
        "resolutions.index[0]\n"
      ],
      "execution_count": 0,
      "outputs": []
    },
    {
      "metadata": {
        "id": "MOe6qHpckMX-",
        "colab_type": "text"
      },
      "cell_type": "markdown",
      "source": [
        "Now the index is of type `datetime64[ns]` and a single entry is shown as a timestamp. This will allow us to do a lot of neat things with this time series."
      ]
    },
    {
      "metadata": {
        "id": "b06r5UYxhdSz",
        "colab_type": "text"
      },
      "cell_type": "markdown",
      "source": [
        "So what are the benefits of using a DateTimeIndex? Well, it will allow you to very easily take a subset of your data. For instance to get all data of 2014:"
      ]
    },
    {
      "metadata": {
        "id": "eu4jJ1rxhdS0",
        "colab_type": "code",
        "colab": {}
      },
      "cell_type": "code",
      "source": [
        "resolutions[\"2014\"]\n"
      ],
      "execution_count": 0,
      "outputs": []
    },
    {
      "metadata": {
        "id": "GQY1k6VfhdS4",
        "colab_type": "text"
      },
      "cell_type": "markdown",
      "source": [
        "Or by selecting a range ([start] : [end], including both the starting and end elemlnt). For example, selecting the first 4 months of 2005:"
      ]
    },
    {
      "metadata": {
        "id": "KVhOL-3KhdS5",
        "colab_type": "code",
        "colab": {}
      },
      "cell_type": "code",
      "source": [
        "resolutions[\"2005-01\":\"2005-04\"]"
      ],
      "execution_count": 0,
      "outputs": []
    },
    {
      "metadata": {
        "id": "XAi6ZbXthdS-",
        "colab_type": "text"
      },
      "cell_type": "markdown",
      "source": [
        "Finally, let us visualize the data with the build in, default plotter. More advanced visualizations are discussed in a later chapter. \n",
        "\n",
        "For now, just remember that the .plot() method will give you a quick graph of your data. 'figsize' helps you select the size of the image. Feel free to adjust it to fit your screensize."
      ]
    },
    {
      "metadata": {
        "id": "7AoML3TrhdTE",
        "colab_type": "code",
        "colab": {}
      },
      "cell_type": "code",
      "source": [
        "resolutions.plot(figsize=(15,8))"
      ],
      "execution_count": 0,
      "outputs": []
    },
    {
      "metadata": {
        "id": "Rjy08an7hdTJ",
        "colab_type": "text"
      },
      "cell_type": "markdown",
      "source": [
        "Some interesting recurring patterns can be seen from this: at the beginning of the year, diet & gym become more popular. We also see an upwards trend for gym, and a downwards trend for diet. These findings we will explore further in chapter 2. First, we will make some exercises on another data set:"
      ]
    },
    {
      "metadata": {
        "id": "uAI9_YrVoX2m",
        "colab_type": "text"
      },
      "cell_type": "markdown",
      "source": [
        "## <a name=\"ex1_1\"> Exercise 1.1: Stock exchange prices (*)\n",
        "Below we load the stock exchange info for Amazon.\n",
        "\n",
        "- What is the type of the index of the data? Make it into a DataTimeIndex\n",
        "- Filter out only the data from the years 2015 & 2016\n",
        "- Visualize the closing price in a simple plot for the month July 2015"
      ]
    },
    {
      "metadata": {
        "id": "MFAyTnkMhdTM",
        "colab_type": "code",
        "colab": {}
      },
      "cell_type": "code",
      "source": [
        "# install the pandas_datareader package to fetch the data\n",
        "!pip install pandas_datareader\n",
        "\n",
        "from pandas_datareader import data\n",
        "stock = data.DataReader('AMZN', 'iex', start='2014')"
      ],
      "execution_count": 0,
      "outputs": []
    },
    {
      "metadata": {
        "id": "vBFsiZ8nhdTS",
        "colab_type": "code",
        "colab": {}
      },
      "cell_type": "code",
      "source": [
        "# Write your code here"
      ],
      "execution_count": 0,
      "outputs": []
    },
    {
      "metadata": {
        "id": "v5DxDM5y1vYg",
        "colab_type": "text"
      },
      "cell_type": "markdown",
      "source": [
        "<a href=\"#ex1_1answer\">Answer to Exercise 1.1</a>"
      ]
    },
    {
      "metadata": {
        "id": "8Mm8fJLYhdTf",
        "colab_type": "text"
      },
      "cell_type": "markdown",
      "source": [
        "## Exercise 1.2:"
      ]
    },
    {
      "metadata": {
        "id": "ojiCsS4LhdTi",
        "colab_type": "text"
      },
      "cell_type": "markdown",
      "source": [
        "# Chapter 2: Finding trends and seasonal effects in data\n",
        "\n",
        "## Resampling\n",
        "\n",
        "The first technique that we will tackle to detect trends in this chapter is resampling. Resampling simply means converting your data to a different time interval. For instance, like we will see in the following example, from monthly data to quarter (4 months) data. \n",
        "\n",
        "Resampling allows to smoothen your data and make trends more clear and can also help with removing the impact of seasonal trends. \n",
        "\n",
        "---\n",
        "Let's revisit our \"resolutions\" data frame: "
      ]
    },
    {
      "metadata": {
        "id": "OfkfNrLBhdTj",
        "colab_type": "code",
        "colab": {}
      },
      "cell_type": "code",
      "source": [
        "resolutions.head()"
      ],
      "execution_count": 0,
      "outputs": []
    },
    {
      "metadata": {
        "id": "9di7U_CchdTp",
        "colab_type": "text"
      },
      "cell_type": "markdown",
      "source": [
        "All possible ranges of time can be selected with Pandas to resample, from (nano)seconds to years. A full list can be found here: [http://pandas.pydata.org/pandas-docs/stable/timeseries.html#offset-aliases](http://pandas.pydata.org/pandas-docs/stable/timeseries.html#offset-aliases )\n",
        "\n",
        "\n",
        "Different techniques to **consolidate** (= merging the values together) the data  also exist, including taking the average of the points or taking the first element of the series. Here's the full list of functions to consolidate the data: sum, mean, std, sem, max, min, median, first, last, ohlc or you can write a custom function yourself.\n",
        "\n",
        "We will chose first to resample quarterly (Q), using the mean to consolidate:"
      ]
    },
    {
      "metadata": {
        "id": "iRH9EpBYhdTp",
        "colab_type": "code",
        "colab": {}
      },
      "cell_type": "code",
      "source": [
        "quarterly_mean = resolutions.resample('Q').mean()\n",
        "quarterly_mean.head()"
      ],
      "execution_count": 0,
      "outputs": []
    },
    {
      "metadata": {
        "id": "-Jtfl1s2hdTu",
        "colab_type": "text"
      },
      "cell_type": "markdown",
      "source": [
        "Or taking the first value for 2-year intervals can be done as follows:"
      ]
    },
    {
      "metadata": {
        "id": "clNwJeNAhdTu",
        "colab_type": "code",
        "colab": {}
      },
      "cell_type": "code",
      "source": [
        "resolutions.resample('2Y').first().head()"
      ],
      "execution_count": 0,
      "outputs": []
    },
    {
      "metadata": {
        "id": "k2OA4ccNhdT1",
        "colab_type": "text"
      },
      "cell_type": "markdown",
      "source": [
        "The interval doesn't necessarily have to become larger though, one can also resample for instance from weekly to daily data. In those cases, a technique to fill in the unknown values ('padding') is chosen. We will not go in further detail here though.\n",
        "\n",
        "## Finding a trend with a rolling window\n",
        "The next important technique is rolling windows. Rolling windows use a similar technique of merging values over a larger time range. However they recalculate the value at each spot instead of consolidating the data. This is particularly useful for removing seasonal trends."
      ]
    },
    {
      "metadata": {
        "id": "Yh_gESSjhdT3",
        "colab_type": "code",
        "colab": {}
      },
      "cell_type": "code",
      "source": [
        "resolutions_rolling = resolutions.rolling(12).mean()\n",
        "resolutions_rolling.tail()"
      ],
      "execution_count": 0,
      "outputs": []
    },
    {
      "metadata": {
        "id": "Tcoyg0tthdT6",
        "colab_type": "text"
      },
      "cell_type": "markdown",
      "source": [
        "Let's visually check if this had the wanted effect. We need to perform a join on the data of our original data frame, with the newly created one 'resolutions_rolling'"
      ]
    },
    {
      "metadata": {
        "id": "iYQXq3AthdT8",
        "colab_type": "code",
        "colab": {}
      },
      "cell_type": "code",
      "source": [
        "resolutions_joined = resolutions.join(resolutions_rolling, rsuffix='_rolling') #suffix is added to the name of columns that are found in both dataframes to avoid names clashing\n",
        "\n",
        "# focus only on diet\n",
        "diet = resolutions_joined[['diet','diet_rolling']]\n",
        "diet.plot(figsize=(15,8))"
      ],
      "execution_count": 0,
      "outputs": []
    },
    {
      "metadata": {
        "id": "CF_Hx5dGhdT_",
        "colab_type": "text"
      },
      "cell_type": "markdown",
      "source": [
        "The rolling average of 12 months is indeed is a good representation of the underlying trend, removing the seasonal effect.\n",
        "\n",
        "Note that any other value for the rolling average (including higher values!) will not give such a nice effect. Try it yourself if you are curious.."
      ]
    },
    {
      "metadata": {
        "id": "CYxZMRvChdUA",
        "colab_type": "text"
      },
      "cell_type": "markdown",
      "source": [
        "## Seasonal effects\n",
        "\n",
        "So how to study the seasonal swing? We pose a simple assumption: the data we found is simply the sum of the seasonal effect on top of a general trend.\n",
        "\n",
        "data = trend + seasonal -> seasonal = data - trend\n",
        "Let's find out if this is a good assumption."
      ]
    },
    {
      "metadata": {
        "id": "Pv78_hB2hdUD",
        "colab_type": "code",
        "colab": {}
      },
      "cell_type": "code",
      "source": [
        "seasonal_diet = diet['diet'] - diet['diet_rolling']\n",
        "\n",
        "# let's zoom into the period 2006-2009 to make it clearer\n",
        "seasonal_diet['2006':'2009'].plot(figsize=(20,10),grid=True)"
      ],
      "execution_count": 0,
      "outputs": []
    },
    {
      "metadata": {
        "id": "UYqu61-hhdUJ",
        "colab_type": "text"
      },
      "cell_type": "markdown",
      "source": [
        "## <a name=\"ex2_1\"> Exercise 2.1: Belgian Climate\n",
        "The next exercise uses a data set with the **monthly average temperatures** in Belgium between 1950 and now.\n",
        "\n",
        "- (*) make the `date` column into the main index and change it to the DateTimeIndex-format (with `.to_datetime()`)\n",
        "- (*) deduce the yearly averages (use resampling) from this data and plot them \n",
        "- (*) to describe the current climate, usually the 20-year rolling average is taken. Calculate and plot this rolling average (\\**optional: together with the yearly averages)\n",
        "- (\\**) Calculate the seasonal effect \n",
        "- (\\*\\*\\*) Can we say that the temperature has become more extreme (colder winters and warmer summers)?"
      ]
    },
    {
      "metadata": {
        "id": "qJIyYKh923ZR",
        "colab_type": "code",
        "colab": {}
      },
      "cell_type": "code",
      "source": [
        "import pandas as pd\n",
        "climate = pd.read_csv(\"climate-belgium.csv\", delimiter=\";\")\n"
      ],
      "execution_count": 0,
      "outputs": []
    },
    {
      "metadata": {
        "colab_type": "code",
        "id": "abFgq49G_eDY",
        "colab": {}
      },
      "cell_type": "code",
      "source": [
        "# Write your code here"
      ],
      "execution_count": 0,
      "outputs": []
    },
    {
      "metadata": {
        "colab_type": "text",
        "id": "sOlNYxL-_eDb"
      },
      "cell_type": "markdown",
      "source": [
        "<a href=\"#ex2_1answer\">Answer to Exercise 2.1</a>"
      ]
    },
    {
      "metadata": {
        "id": "CSKQ5pob_WVl",
        "colab_type": "text"
      },
      "cell_type": "markdown",
      "source": [
        "# Chapter 3: Data Visualisation "
      ]
    },
    {
      "metadata": {
        "id": "YVx9H43l_WVm",
        "colab_type": "text"
      },
      "cell_type": "markdown",
      "source": [
        "To visualize data you have two possibilites:\n",
        "\n",
        "1) take a look at the data in raw format ... but not really useful and helpful \n",
        "\n",
        "2) Plot them in a chart \n",
        "\n",
        "=> e.g. Bubble Chart and Violin Box plot"
      ]
    },
    {
      "metadata": {
        "id": "ELhuYFNP_WVn",
        "colab_type": "text"
      },
      "cell_type": "markdown",
      "source": [
        "### Violin Boxplot \n",
        "\n",
        "The Violin Boxplot is used as an error metric. It shows the distribution around the mean which mean that it shows if the data are homogenous (look the same) or heterogenous (looks different)\n",
        "\n",
        "In order to create a box plot with Pandas you can use the following code:\n"
      ]
    },
    {
      "metadata": {
        "id": "OJ8aT4IB_WVp",
        "colab_type": "code",
        "colab": {}
      },
      "cell_type": "code",
      "source": [
        "\n",
        "import matplotlib.pyplot as plt\n",
        "import numpy as np\n",
        "\n",
        "fig, axes = plt.subplots(nrows=1, ncols=2, figsize=(9, 4))\n",
        "\n",
        "# generate some random test data\n",
        "all_data = [np.random.normal(0, std, 100) for std in range(6, 10)]\n",
        "# plot violin plot\n",
        "axes[0].violinplot(all_data,\n",
        "                   showmeans=False,\n",
        "                   showmedians=True)\n",
        "axes[0].set_title('violin plot')\n",
        "\n",
        "# plot box plot\n",
        "axes[1].boxplot(all_data)\n",
        "axes[1].set_title('box plot')\n",
        "\n",
        "# adding horizontal grid lines\n",
        "for ax in axes:\n",
        "    ax.yaxis.grid(True)\n",
        "    ax.set_xticks([y+1 for y in range(len(all_data))]) #the ticks are the graduation on the x axis , it allows to have those labels \"x1\",\"x2\" etc\n",
        "    ax.set_xlabel('xlabel')\n",
        "    ax.set_ylabel('ylabel')\n",
        "\n",
        "# add x-tick labels\n",
        "plt.setp(axes, xticks=[y+1 for y in range(len(all_data))], \n",
        "         xticklabels=['x1', 'x2', 'x3', 'x4']) #labels that you can see in the charts in the x axis\n",
        "plt.show()"
      ],
      "execution_count": 0,
      "outputs": []
    },
    {
      "metadata": {
        "id": "H6qsm_qX_WVv",
        "colab_type": "text"
      },
      "cell_type": "markdown",
      "source": [
        "### Bubble chart\n",
        "the bubble chart are useful to have three information at the same time (even four with the colors)\n",
        "\n",
        "<figure>\n",
        "  <IMG SRC=\"http://static.klipfolio.com/images/saas/example_bubblechart.png\" WIDTH=600 ALIGN=\"CENTER\"/>\n",
        "</figure>\n",
        "\n",
        "\n",
        "In this figure we can see the time spent on the TV by the male/female as well as the porportion (how many of them) \n",
        "\n",
        "It is also useful for detecting outlier because if we have one point really far from the other with a small diameter, it means that there are a few points (or maybe only one data) that corresponds to this point.\n",
        "\n",
        "In order to create a bubble chart we can use the following code"
      ]
    },
    {
      "metadata": {
        "id": "oFqQo3X-_WVw",
        "colab_type": "code",
        "colab": {}
      },
      "cell_type": "code",
      "source": [
        "import matplotlib.pyplot as plt\n",
        "import numpy as np\n",
        " \n",
        "# create data\n",
        "#BE CAREFUL! all the data have to be of the same length\n",
        "x = np.random.rand(40) #data for the first axis\n",
        "y = np.random.rand(40) #data for the second axis\n",
        "z = np.random.rand(40) #data for the third axis\n",
        " \n",
        "# use the scatter function\n",
        "plt.scatter(x, y, s=z*1000, alpha=0.5)\n",
        "plt.show()\n"
      ],
      "execution_count": 0,
      "outputs": []
    },
    {
      "metadata": {
        "id": "dx6Z_nZK_WV0",
        "colab_type": "text"
      },
      "cell_type": "markdown",
      "source": [
        "##<a name=\"ex3_1\"> Exercise 3.1: Violin box plot for a time series (*)\n",
        "\n",
        "From the \"time_serie_1.xlsx\":\n",
        "\n",
        " 1) import the data from the tab \"month\"\n",
        " \n",
        " 2) Make a violin box plot based on the data "
      ]
    },
    {
      "metadata": {
        "colab_type": "code",
        "id": "Pb_AQRw_Ag7P",
        "colab": {}
      },
      "cell_type": "code",
      "source": [
        "# Write your code here"
      ],
      "execution_count": 0,
      "outputs": []
    },
    {
      "metadata": {
        "colab_type": "text",
        "id": "b4_pbrGMAg7S"
      },
      "cell_type": "markdown",
      "source": [
        "<a href=\"#ex3_1answer\">Answer to Exercise 3.1</a>"
      ]
    },
    {
      "metadata": {
        "id": "_AVQJN47_WV8",
        "colab_type": "text"
      },
      "cell_type": "markdown",
      "source": [
        "# Chapter 4: Linear Regression\n",
        "\n",
        "Linear regression is an algorithm that tries to find a line that will modelize the data\n",
        "It does it by finding the line that will minimizing the square residual error (=distance between the points and the corresponding point in the line = the estimated value) for all the points\n",
        "\n",
        "\n",
        "In order to build a linear regression model you will need \n",
        "\n",
        "1) A dataset\n",
        "\n",
        "2) To know which column of your dataset you will use (e.g. the time and the temperature for exemple)  \n",
        "\n",
        "3) give your data to the algorithm to make the job \n"
      ]
    },
    {
      "metadata": {
        "id": "31ZtDBZs_WV9",
        "colab_type": "text"
      },
      "cell_type": "markdown",
      "source": [
        "Example:"
      ]
    },
    {
      "metadata": {
        "id": "DxhQLM03_WV_",
        "colab_type": "code",
        "colab": {}
      },
      "cell_type": "code",
      "source": [
        "import matplotlib.pyplot as plt\n",
        "import numpy as np\n",
        "from sklearn import datasets, linear_model\n",
        "\n",
        "# Load the diabetes dataset\n",
        "diabetes = datasets.load_diabetes()\n",
        "\n",
        "\n",
        "# Use only one feature\n",
        "# The data for the x axis should be a matrix like the following: [[first_value],[second_value], etc]\n",
        "diabetes_X = diabetes.data[:, np.newaxis, 2]\n",
        "diabetes_Y = diabetes.target\n",
        "\n",
        "# Create linear regression object\n",
        "regr = linear_model.LinearRegression()\n",
        "\n",
        "# Train the model\n",
        "regr.fit(diabetes_X, diabetes_Y)\n",
        "\n",
        "# Make predictions \n",
        "diabetes_y_pred = regr.predict(diabetes_X) \n",
        "\n",
        "# Plot outputs\n",
        "plt.scatter(diabetes_X, diabetes_Y,  color='black')\n",
        "plt.plot(diabetes_X, diabetes_y_pred, color='blue', linewidth=3)\n",
        "\n",
        "\n",
        "plt.show()"
      ],
      "execution_count": 0,
      "outputs": []
    },
    {
      "metadata": {
        "id": "I6pSNL8t_WWF",
        "colab_type": "text"
      },
      "cell_type": "markdown",
      "source": [
        "The closer the variance score is from 1 the better it prediciton is"
      ]
    },
    {
      "metadata": {
        "id": "LjGB20aq_WWH",
        "colab_type": "text"
      },
      "cell_type": "markdown",
      "source": [
        "## <a name=\"ex4_1\"> Exercise 4.1 (*)\n",
        "Based on the file \"time_serie_1.xlsx\" \n",
        "\n",
        "1) Parse the data from the tab \"linear\" \n",
        "\n",
        "2) Apply the linear regression \n",
        "\n",
        "3) Find the temperature for Sunday\n"
      ]
    },
    {
      "metadata": {
        "colab_type": "code",
        "id": "8UOhE4bEBseH",
        "colab": {}
      },
      "cell_type": "code",
      "source": [
        "# Write your code here"
      ],
      "execution_count": 0,
      "outputs": []
    },
    {
      "metadata": {
        "colab_type": "text",
        "id": "LxWX-0jbBseK"
      },
      "cell_type": "markdown",
      "source": [
        "<a href=\"#ex4_1answer\">Answer to Exercise 4.1</a>"
      ]
    },
    {
      "metadata": {
        "id": "Q10I1KG5_WWP",
        "colab_type": "text"
      },
      "cell_type": "markdown",
      "source": [
        "## <a name=\"ex4_2\"> Exercise 4.2 (**)\n",
        "Based on the file \"time_serie_1.xlsx\" \n",
        "\n",
        "1) Parse the data from the tab \"non_linear\" \n",
        "\n",
        "2) Apply the linear regression \n",
        "\n",
        "3) Find the temperature for the next 4 month (September, October, November,December)\n",
        "\n",
        "4) What do you see?\n",
        "\n",
        "Note that if you want to plot the line you can add the following realistic temperature \n",
        "\n",
        "September : 20\n",
        "\n",
        "October: 17\n",
        "\n",
        "November: 13\n",
        "\n",
        "December: 5"
      ]
    },
    {
      "metadata": {
        "colab_type": "code",
        "id": "dmhqvOoRBtL0",
        "colab": {}
      },
      "cell_type": "code",
      "source": [
        "# Write your code here"
      ],
      "execution_count": 0,
      "outputs": []
    },
    {
      "metadata": {
        "colab_type": "text",
        "id": "BHNuAzLFBtL2"
      },
      "cell_type": "markdown",
      "source": [
        "<a href=\"#ex4_2answer\">Answer to Exercise 4.2</a>"
      ]
    },
    {
      "metadata": {
        "id": "F1fKHsiKCcYw",
        "colab_type": "text"
      },
      "cell_type": "markdown",
      "source": [
        "# Chapter 2.Extra: The Correlation Coefficient ***"
      ]
    },
    {
      "metadata": {
        "id": "EiaqA4AnhdUR",
        "colab_type": "text"
      },
      "cell_type": "markdown",
      "source": [
        "The correlation coefficient can measure the correlation (= do they have a similar shape) between two data series. The coefficient ranges from -1 to 1, where 1 shows perfect correlation, 0 no correlation and -1 a reverse correlation.\n",
        "\n",
        "We can visualize our data of New Year's resolutions once more. Try to already guess what correlation coefficients you expect to get between the 3 data series.\n"
      ]
    },
    {
      "metadata": {
        "id": "zZTGDI0LhdUS",
        "colab_type": "code",
        "colab": {}
      },
      "cell_type": "code",
      "source": [
        "resolutions['2010':'2013'].plot(figsize=(15,8))"
      ],
      "execution_count": 0,
      "outputs": []
    },
    {
      "metadata": {
        "id": "EHyW2dvDhdUY",
        "colab_type": "text"
      },
      "cell_type": "markdown",
      "source": [
        "From above plot, I would say the orange('gym') and blue ('diet') show a similar shape, raising and dropping at the same points. The green line seems not to follow this shape though.\n",
        "\n",
        "We can now calculate the actual correlation values. With Pandas, this is extremely easy. Let's see if the values match our expectations:"
      ]
    },
    {
      "metadata": {
        "id": "BqzJT1NHhdUZ",
        "colab_type": "code",
        "colab": {}
      },
      "cell_type": "code",
      "source": [
        "resolutions['2010':'2013'].corr()"
      ],
      "execution_count": 0,
      "outputs": []
    },
    {
      "metadata": {
        "id": "B0zHNkjjhdUc",
        "colab_type": "text"
      },
      "cell_type": "markdown",
      "source": [
        "That's close to what we expected, but we had to zoom in to the period 2010-2013. If we take the whole data series, we will find a very strange result:"
      ]
    },
    {
      "metadata": {
        "id": "s2uTm9nghdUc",
        "colab_type": "code",
        "colab": {}
      },
      "cell_type": "code",
      "source": [
        "resolutions.corr()"
      ],
      "execution_count": 0,
      "outputs": []
    },
    {
      "metadata": {
        "id": "orUbduyyhdUm",
        "colab_type": "text"
      },
      "cell_type": "markdown",
      "source": [
        "Diet and gym have a close to zero, and even negative correlation! That can be explained from our assumption before: the data is actual the sum of the seasonal fluctuation on top of the general trends. And the general trends of diet and gym are actually quite opposite (apart from the 2010-2013 period), as can be seen when we plot their rolling averages."
      ]
    },
    {
      "metadata": {
        "id": "_Z5jctkRhdUn",
        "colab_type": "code",
        "colab": {}
      },
      "cell_type": "code",
      "source": [
        "resolutions_joined[['diet_rolling','gym_rolling']].plot(figsize=(15,8))\n",
        "resolutions_joined[['diet_rolling','gym_rolling']].corr()"
      ],
      "execution_count": 0,
      "outputs": []
    },
    {
      "metadata": {
        "id": "n6dgpzLghdUy",
        "colab_type": "text"
      },
      "cell_type": "markdown",
      "source": [
        "And the negative correlation of -0.29 also shows this.\n",
        "\n",
        "Your next exercise will be to prove that the seasonal effect is actually positively correlated for diet and gym!"
      ]
    },
    {
      "metadata": {
        "id": "pcwulkrhhdVM",
        "colab_type": "text"
      },
      "cell_type": "markdown",
      "source": [
        "## Exercise 2.3: Correlation of the seasonal patterns in the New Years Resolutions (***)\n",
        "\n",
        "- We calculated the seasonal effect on 'diet' before. Start by calculating the seasonal effect on 'gym' in the same matter and then join the data.\n",
        "- Visualize the 2 seasonal effects together. Does our assumption hold that they are strongly correlated?\n",
        "- Calculate the correlation to validate"
      ]
    },
    {
      "metadata": {
        "id": "O0B6B9Pb2fNh",
        "colab_type": "text"
      },
      "cell_type": "markdown",
      "source": [
        "# Answers for the exercises\n"
      ]
    },
    {
      "metadata": {
        "id": "ZXSge-iW2nmw",
        "colab_type": "text"
      },
      "cell_type": "markdown",
      "source": [
        "## <a name=\"ex1_1answer\">Answer to Exercise 1.1</a>"
      ]
    },
    {
      "metadata": {
        "id": "9YUOaGDFrvWu",
        "colab_type": "text"
      },
      "cell_type": "markdown",
      "source": [
        "- What is the type of the index of the data? Make it into a DataTimeIndex"
      ]
    },
    {
      "metadata": {
        "id": "gooC4YXgrk-M",
        "colab_type": "code",
        "colab": {}
      },
      "cell_type": "code",
      "source": [
        "# print out the index -> dtype = 'object'\n",
        "print(stock.index)\n",
        "\n",
        "# or print out it's first element and the type -> a string\n",
        "print(stock.index[0],'is of type',type(stock.index[0]))"
      ],
      "execution_count": 0,
      "outputs": []
    },
    {
      "metadata": {
        "id": "qdq9Xk1yoKw5",
        "colab_type": "code",
        "colab": {}
      },
      "cell_type": "code",
      "source": [
        "# make the index a DataTimeIndex\n",
        "stock.index = pd.to_datetime(stock.index)\n",
        "\n",
        "# print out again\n",
        "print(stock.index[0],'is of type',type(stock.index[0]))"
      ],
      "execution_count": 0,
      "outputs": []
    },
    {
      "metadata": {
        "id": "w9hOZAQ5uJTo",
        "colab_type": "text"
      },
      "cell_type": "markdown",
      "source": [
        "- Filter out only the data from the years 2015 & 2016\n"
      ]
    },
    {
      "metadata": {
        "id": "AYvUBFWDuKsJ",
        "colab_type": "code",
        "colab": {}
      },
      "cell_type": "code",
      "source": [
        "stock1516=stock['2015':'2016'] \n",
        "print(stock1516.head()) # first 5 entries = JAN 2015\n",
        "print(stock1516.tail()) # last 5 entries = DEC 2016\n",
        "\n",
        "# another option is btw to create a filter on the index\n",
        "# stock1516 = stock[(stock.index >= '2015') & (stock.index <= '2016')]\n"
      ],
      "execution_count": 0,
      "outputs": []
    },
    {
      "metadata": {
        "id": "zKEAhYN8uCp2",
        "colab_type": "text"
      },
      "cell_type": "markdown",
      "source": [
        "- Visualize the closing price in a simple plot for the month July 2015"
      ]
    },
    {
      "metadata": {
        "id": "XmhOthGchdTW",
        "colab_type": "code",
        "colab": {}
      },
      "cell_type": "code",
      "source": [
        "stock1516['2015-07']['close'].plot(figsize=(15,8))"
      ],
      "execution_count": 0,
      "outputs": []
    },
    {
      "metadata": {
        "id": "yINrOhJe2n-d",
        "colab_type": "text"
      },
      "cell_type": "markdown",
      "source": [
        "<a href=\"#ex1_1\">Back to Exercise 1.1</a>\n",
        "\n",
        "## <a name=\"ex2_1answer\">Answer to Exercise 2.1</a>"
      ]
    },
    {
      "metadata": {
        "id": "J9-BWFZR22Wz",
        "colab_type": "text"
      },
      "cell_type": "markdown",
      "source": [
        "- make the `date` column into the main index and change it to the DateTimeIndex-format (with `.to_datetime()`)\n",
        "\n"
      ]
    },
    {
      "metadata": {
        "id": "oOFO3gjAKwJg",
        "colab_type": "code",
        "colab": {}
      },
      "cell_type": "code",
      "source": [
        "ex21 = climate.set_index('date')\n",
        "ex21.index = pd.to_datetime(ex21.index)\n",
        "# printing out the info: the index is of DateTimeIndex format \n",
        "print(ex21.info()) \n",
        "ex21.head()"
      ],
      "execution_count": 0,
      "outputs": []
    },
    {
      "metadata": {
        "id": "RnzIC46T6jue",
        "colab_type": "code",
        "colab": {}
      },
      "cell_type": "code",
      "source": [
        "# PS. plotting at this point has little effect, the data is hard to interpret:\n",
        "ex21.plot(figsize=(15,8))\n"
      ],
      "execution_count": 0,
      "outputs": []
    },
    {
      "metadata": {
        "id": "PI5ErGAU4Ez8",
        "colab_type": "text"
      },
      "cell_type": "markdown",
      "source": [
        "- deduce the yearly averages (use resampling) from this data and plot them "
      ]
    },
    {
      "metadata": {
        "id": "C7q53_4k4FAp",
        "colab_type": "code",
        "colab": {}
      },
      "cell_type": "code",
      "source": [
        "ex21_year = ex21.resample('Y').mean()\n",
        "ex21_year.plot(figsize=(15,8))"
      ],
      "execution_count": 0,
      "outputs": []
    },
    {
      "metadata": {
        "id": "drM-opiU4thg",
        "colab_type": "text"
      },
      "cell_type": "markdown",
      "source": [
        "- to describe the current climate, usually the 20-year rolling average is taken. Calculate and plot this rolling average together with the yearly averages"
      ]
    },
    {
      "metadata": {
        "id": "DEDSJ6wI4uBm",
        "colab_type": "code",
        "colab": {}
      },
      "cell_type": "code",
      "source": [
        "# the date is already by year, so we simply take a rolling window of 20 and consolidate to the mean value\n",
        "ex21_year_rolling = ex21_year.rolling(20).mean()\n",
        "\n",
        "# join our new data together & plot\n",
        "ex21_year_joined = ex21_year.join(ex21_year_rolling, rsuffix='_20y')\n",
        "ex21_year_joined['1950':'2012'].plot(figsize=(15,10))\n",
        "# we see the global warming trend also clearly in the belgian climate"
      ],
      "execution_count": 0,
      "outputs": []
    },
    {
      "metadata": {
        "id": "jXn1Vzjh73ui",
        "colab_type": "text"
      },
      "cell_type": "markdown",
      "source": [
        "- Calculate the seasonal effect "
      ]
    },
    {
      "metadata": {
        "id": "zwmvvkzM74i8",
        "colab_type": "code",
        "colab": {}
      },
      "cell_type": "code",
      "source": [
        "ex21_rolling = ex21.rolling(12).mean()\n",
        "ex21_seasonal = ex21 - ex21_rolling\n",
        "ex21_seasonal['2000':'2003'].plot(figsize=(15,8))\n",
        "ex21_seasonal.plot(figsize=(15,8))\n",
        "\n"
      ],
      "execution_count": 0,
      "outputs": []
    },
    {
      "metadata": {
        "id": "I0sIHYfTRhY7",
        "colab_type": "code",
        "colab": {}
      },
      "cell_type": "code",
      "source": [
        "ex21['2000':'2018'].plot(figsize=(10,8))\n",
        "ex21_year['2000':'2018'].plot(figsize=(10,8))\n"
      ],
      "execution_count": 0,
      "outputs": []
    },
    {
      "metadata": {
        "id": "OgWFrpXG8-5C",
        "colab_type": "text"
      },
      "cell_type": "markdown",
      "source": [
        "- (\\*\\*\\*) Can we say that the temperature has become more extreme (colder winters and warmer summers)?"
      ]
    },
    {
      "metadata": {
        "id": "WU0g_svg801A",
        "colab_type": "code",
        "colab": {}
      },
      "cell_type": "code",
      "source": [
        "# more extreme months means that their temperature is further from the yearly mean = their seasonal (absolute!) values are larger\n",
        "# we can calculate this in 2 steps: first make the dataset in absolute values:\n",
        "ex21_abs = ex21_seasonal.abs()\n",
        "# then resample\n",
        "ex21_abs_yearly = ex21_abs.resample('Y').sum()\n",
        "\n",
        "# and finally make a rolling average to see the trend\n",
        "ex21_abs_yearly_rolling = ex21_abs_yearly.rolling(20).mean();\n",
        "\n",
        "ex21_extreme = ex21_abs_yearly.join(ex21_abs_yearly_rolling, rsuffix='_20y')\n",
        "\n",
        "ex21_extreme['1970':'2018'].plot(figsize=(15,8))\n",
        "# nope, from this data i would say no..\n"
      ],
      "execution_count": 0,
      "outputs": []
    },
    {
      "metadata": {
        "colab_type": "text",
        "id": "nXUAMo-rA8Ub"
      },
      "cell_type": "markdown",
      "source": [
        "<a href=\"#ex2_1\">Back to Exercise 2.1</a>\n",
        "\n",
        "## <a name=\"ex3_1answer\">Answer to Exercise 3.1</a>"
      ]
    },
    {
      "metadata": {
        "id": "HHWqzbgB_WV1",
        "colab_type": "code",
        "colab": {}
      },
      "cell_type": "code",
      "source": [
        "import matplotlib.pyplot as plt\n",
        "import numpy as np\n",
        "import pandas as pd\n",
        "!pip install -q --upgrade xlrd\n",
        "\n",
        "excel_reader = pd.ExcelFile(\"time_serie_1.xlsx\")\n",
        "month_tab = excel_reader.parse(sheet_name = \"month\")\n",
        "temperature = month_tab.get(\"temperature\")\n",
        "\n",
        "fig, axes = plt.subplots(nrows=1, ncols=1, figsize=(12, 9))\n",
        "\n",
        "# plot violin plot\n",
        "axes.violinplot(temperature,\n",
        "                   showmeans=True,\n",
        "                   showmedians=True)\n",
        "axes.set_title('violin plot')\n",
        "\n",
        "# adding horizontal grid lines\n",
        "axes.yaxis.grid(True)\n",
        "axes.set_xlabel('Month')\n",
        "axes.set_ylabel('Temperature')\n",
        "\n",
        "plt.setp(axes, xticks=[0], #to have no graduation on the x axis\n",
        "         )\n",
        "plt.show()\n"
      ],
      "execution_count": 0,
      "outputs": []
    },
    {
      "metadata": {
        "colab_type": "text",
        "id": "vS6JhhpiA9q6"
      },
      "cell_type": "markdown",
      "source": [
        "<a href=\"#ex3_1\">Back to Exercise 3.1</a>\n",
        "\n",
        "## <a name=\"ex4_1answer\">Answer to Exercise 4.1</a>"
      ]
    },
    {
      "metadata": {
        "id": "oN54zZbT_WWJ",
        "colab_type": "code",
        "colab": {}
      },
      "cell_type": "code",
      "source": [
        "import pandas as pd \n",
        "import matplotlib.pyplot as plt\n",
        "import numpy as np\n",
        "from sklearn import datasets, linear_model\n",
        "\n",
        "excel_reader = pd.ExcelFile(\"time_serie_1.xlsx\")\n",
        "linear_tab = excel_reader.parse(sheet_name = \"linear\")\n",
        "regr = linear_model.LinearRegression()\n",
        "x_train = [[i] for i in range(len(linear_tab.get(\"time\")))] #the times have to be integer, so we can represent those by value from 0 to the end of the list\n",
        "regr.fit(x_train, linear_tab.get(\"temperature\"))\n",
        "\n",
        "prediction = regr.predict([[i] for i in range(len(x_train)) ]) \n",
        "#the plot of the current data set\n",
        "plt.scatter(x_train, linear_tab.get(\"temperature\"),  color='black')\n",
        "plt.plot(x_train, prediction, color='blue', linewidth=3)\n",
        "plt.show()\n",
        "\n",
        "regr.predict(([[7]])) # 7 for Sunday\n"
      ],
      "execution_count": 0,
      "outputs": []
    },
    {
      "metadata": {
        "id": "Pqmz8CUDAtbR",
        "colab_type": "text"
      },
      "cell_type": "markdown",
      "source": [
        "<a href=\"#ex4_1\">Back to Exercise 4.1</a>\n",
        "\n",
        "## <a name=\"ex4_2answer\">Answer to Exercise 4.2</a>"
      ]
    },
    {
      "metadata": {
        "id": "o2dzQAu2_WWQ",
        "colab_type": "code",
        "colab": {}
      },
      "cell_type": "code",
      "source": [
        "import pandas as pd \n",
        "import matplotlib.pyplot as plt\n",
        "import numpy as np\n",
        "from sklearn import datasets, linear_model\n",
        "\n",
        "excel_reader = pd.ExcelFile(\"time_serie_1.xlsx\")\n",
        "linear_tab = excel_reader.parse(sheet_name = \"non_linear\")\n",
        "regr = linear_model.LinearRegression()\n",
        "length_tab = len(linear_tab.get(\"time\"))\n",
        "months = [[i] for i in range(length_tab)] \n",
        "all_months = months + [[length_tab+i] for i in range(4)]\n",
        "regr.fit(months, linear_tab.get(\"temperature\"))\n",
        "\n",
        "prediction = regr.predict([[i] for i in range(12) ])\n",
        "temperature_to_add = [20,17,13,5]\n",
        "all_temperature = list(linear_tab.get(\"temperature\")) + temperature_to_add\n",
        "plt.scatter(all_months, all_temperature,  color='black')\n",
        "plt.plot(all_months, prediction, color='blue', linewidth=3)\n",
        "\n",
        "\n",
        "plt.xlabel('Month')\n",
        "plt.ylabel('Temperature')\n",
        "plt.show()\n",
        "print(regr.predict([[9],[10],[11],[12]]))\n",
        "print(\"those prediction are impossible ... especially in Belgium\")\n",
        "print(\"as you can see after plotting, the linear regression is not really a good model for the time series as those are never linear in long time period\")"
      ],
      "execution_count": 0,
      "outputs": []
    },
    {
      "metadata": {
        "id": "laCb2ZiNCFWi",
        "colab_type": "text"
      },
      "cell_type": "markdown",
      "source": [
        "<a href=\"#ex4_2\">Back to Exercise 4.2</a>"
      ]
    },
    {
      "metadata": {
        "id": "eMj0Vsm2CH6I",
        "colab_type": "code",
        "colab": {}
      },
      "cell_type": "code",
      "source": [
        ""
      ],
      "execution_count": 0,
      "outputs": []
    }
  ]
}