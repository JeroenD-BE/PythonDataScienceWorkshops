{
 "cells": [
  {
   "cell_type": "markdown",
   "metadata": {
    "colab_type": "text",
    "id": "hL3LXxfoFuMJ",
    "slideshow": {
     "slide_type": "slide"
    }
   },
   "source": [
    "<figure>\n",
    "  <IMG SRC=\"https://www.capgemini.com/nl-nl/wp-content/themes/capgemini-2018-02/assets/images/logo.svg\" WIDTH=250 ALIGN=\"RIGHT\"/>\n",
    "</figure>\n",
    "\n",
    "# DS Python Workshop 2\n",
    "*By Alain Issa & Jeroen Dhondt*"
   ]
  },
  {
   "cell_type": "markdown",
   "metadata": {
    "colab_type": "text",
    "id": "KKpwyfvhrfv6"
   },
   "source": [
    "### How to use this notebook\n",
    "\n",
    " \n",
    "*   Double click any cell to edit its content\n",
    "*   Click  ``` SHIFT+ENTER ```  to execute a cell \n",
    "*  The exercises have a difficulty assigned to them, from 1 to 3 *\n",
    "\n",
    "### Resources\n",
    "Official documentation (rather little explanation) [Link official documentation](https://docs.python.org/3/)\n",
    "\n",
    "Interactive website where you can quickly look up basic functions of Python: [Python Cheatsheet](https://www.pythoncheatsheet.org/)\n",
    "\n",
    "Google is our best tool :)\n"
   ]
  },
  {
   "cell_type": "markdown",
   "metadata": {
    "colab_type": "text",
    "id": "NvBClzTbFuMK"
   },
   "source": [
    "\n",
    "---\n",
    "\n",
    "## Chapter 1: Quick recap of Python basics\n",
    "\n",
    "In this chapter we revisit some of the core functionalities of the Python programming language.\n",
    "\n"
   ]
  },
  {
   "cell_type": "markdown",
   "metadata": {
    "colab_type": "text",
    "id": "hxnlm1zGkWYu"
   },
   "source": [
    "\n",
    "### Variable types\n",
    "\n",
    "Python supports a range of variable types and data structures. Let's quickly recap the different variable types."
   ]
  },
  {
   "cell_type": "code",
   "execution_count": 0,
   "metadata": {
    "colab": {},
    "colab_type": "code",
    "id": "Lds-8pmPFuML"
   },
   "outputs": [],
   "source": [
    "s = \"Hello\"   # String\n",
    "i = 4         # Integer\n",
    "f = 3.14      # Float\n",
    "b = True      # Boolean\n",
    "n = None\n",
    "print(\"Variables:\",s,i,f,b,n)"
   ]
  },
  {
   "cell_type": "markdown",
   "metadata": {
    "colab_type": "text",
    "id": "Uxzlc-AsSqBE"
   },
   "source": [
    "You can only perform base operations on 2 variables if they are of the same type, or compatible types (like float's with integer). If this is not the case, you will need to **cast** the variable to the wanted type. See these examples"
   ]
  },
  {
   "cell_type": "code",
   "execution_count": 0,
   "metadata": {
    "colab": {},
    "colab_type": "code",
    "id": "j3FLG87_S_j3"
   },
   "outputs": [],
   "source": [
    "string1 = \"1\"\n",
    "string2 = \"2\"\n",
    "integer1 = 3\n",
    "float1 = 4.56\n",
    "\n",
    "print(string1,  \"+\", string2, \"=\",   string1+string2 )\n",
    "print(integer1, \"+\", float1,  \"=\",   integer1+float1 )\n",
    "print(\"\")\n",
    "print(\"With casting: \")\n",
    "print(integer1, \"+\", string2, \"=\",   str(integer1)+string2 )\n",
    "print(string1,  \"+\", float1,  \"=\",   float(string1)+float1 )"
   ]
  },
  {
   "cell_type": "markdown",
   "metadata": {
    "colab_type": "text",
    "id": "nz5xTeQeaJEJ"
   },
   "source": [
    "### Lists\n",
    "\n",
    "A list contain a set of values. In Python, you can create an empty list by assigning a variable `list = []`\n",
    "\n",
    "In Python, a list can contain different data types without problem."
   ]
  },
  {
   "cell_type": "code",
   "execution_count": 0,
   "metadata": {
    "colab": {},
    "colab_type": "code",
    "id": "CUaVaW4raJEN"
   },
   "outputs": [],
   "source": [
    "list_of_values = [\"Male\", 40, True, \"Pilot\"]\n",
    "print(\"List has the type:\",type(list_of_values),\"and values:\", list_of_values)\n"
   ]
  },
  {
   "cell_type": "markdown",
   "metadata": {
    "colab_type": "text",
    "id": "JbVnRLZoaJEf"
   },
   "source": [
    "### Dictionary\n",
    "A dictionary is a powerful data structure that is comparable to a list. The difference here is that when you want to store your information, you have to choose a **key** under which to store your value. You can then retrieve the stored value by calling the key you have provided. \n",
    "\n",
    "That is a big difference with a list. Elements in a **list can change order**, and you are never certain the same element will be returned when you call `list[4]`. In a **dictionary, each key is unique** and always returns the same object"
   ]
  },
  {
   "cell_type": "code",
   "execution_count": 0,
   "metadata": {
    "colab": {},
    "colab_type": "code",
    "id": "DwDfIjc3aJEi"
   },
   "outputs": [],
   "source": [
    "#Create the dictionary\n",
    "dictionary = {\n",
    "    \"name\": \"Alain\",\n",
    "    \"company\": \"Capgemini\",\n",
    "}  \n",
    "print(dictionary)\n",
    "print(\"Name:\", dictionary[\"name\"],\"\\n\") # call the stored value under the key \"name\"\n",
    "\n",
    "dictionary[\"name\"] = \"Jeroen\" # put Jeroen instead of Alain\n",
    "dictionary[\"age\"] = 30 # add a new key-value \n",
    "print(dictionary)"
   ]
  },
  {
   "cell_type": "markdown",
   "metadata": {
    "colab_type": "text",
    "id": "BQtbfU59aJEz"
   },
   "source": [
    "\n",
    "### Loops: the for-loop\n",
    "\n",
    "Back to our original list of values. The for-loop is a very powerful tool that allows us to repeatedly do the same action on a different element from a list, dictionary or series of numbers.\n"
   ]
  },
  {
   "cell_type": "code",
   "execution_count": 0,
   "metadata": {
    "colab": {},
    "colab_type": "code",
    "id": "vrlxpeHcaJE3"
   },
   "outputs": [],
   "source": [
    "list_of_values = [\"Male\", 40, True, \"Pilot\"]\n",
    "\n",
    "for value in list_of_values:\n",
    "  print(value)\n",
    "  \n",
    "print(\"\\nAnd for a dictionary:\")\n",
    "for key in dictionary:\n",
    "  print(key,\":\",dictionary[key])"
   ]
  },
  {
   "cell_type": "markdown",
   "metadata": {
    "colab_type": "text",
    "id": "Dyc2f-4caJFH"
   },
   "source": [
    "### Conditional flow: if .. else if .. else ..\n",
    "\n",
    "The keywords if, elif and else allow you to return a response based on some conditions. \n",
    "\n",
    "An example explains this whole idea best. Let's randomly assign a value to the age variable:"
   ]
  },
  {
   "cell_type": "code",
   "execution_count": 0,
   "metadata": {
    "colab": {},
    "colab_type": "code",
    "id": "_P7kbl1Fkzuh"
   },
   "outputs": [],
   "source": [
    "import random\n",
    "age = random.randint(0,100)\n",
    "print(\"Age: \", age)"
   ]
  },
  {
   "cell_type": "markdown",
   "metadata": {
    "colab_type": "text",
    "id": "y1P24gK1XW-x"
   },
   "source": [
    " .. and now print out a conditional message based on age. "
   ]
  },
  {
   "cell_type": "code",
   "execution_count": 0,
   "metadata": {
    "colab": {},
    "colab_type": "code",
    "id": "h0ASdX9CXW-z"
   },
   "outputs": [],
   "source": [
    "print(\"You are\",age,\"years old.\")\n",
    "\n",
    "if age < 18:\n",
    "    print(\"A great time to learn new skills!\")\n",
    "elif age < 67:\n",
    "    print(\"Let's get this knowledge into practice, time for work\")\n",
    "else:\n",
    "    print(\"Enjoy a well deserved retirement!\")"
   ]
  },
  {
   "cell_type": "markdown",
   "metadata": {
    "colab_type": "text",
    "id": "aT7EXgALFuNS"
   },
   "source": [
    "##  Chapter 2: Introduction to Pandas DataFrame  "
   ]
  },
  {
   "cell_type": "markdown",
   "metadata": {
    "colab_type": "text",
    "id": "zLeYwQA0XW_A"
   },
   "source": [
    "The Pandas DataFrame holds tabular data, much like an Excel sheet. We first learn how to interact with a DataFrame.\n",
    "\n",
    "### Analyzing a DataFrame\n",
    "\n",
    "Let us create a new dataframe with some fictive weather data."
   ]
  },
  {
   "cell_type": "code",
   "execution_count": 0,
   "metadata": {
    "colab": {},
    "colab_type": "code",
    "id": "Y4DGemhTXW_B"
   },
   "outputs": [],
   "source": [
    "import pandas as pd\n",
    "pd.set_option('display.max_columns', 500) # show more columns horizontally\n",
    "pd.set_option('display.width', 1000) # show more data horizontally"
   ]
  },
  {
   "cell_type": "code",
   "execution_count": 0,
   "metadata": {
    "colab": {},
    "colab_type": "code",
    "id": "nBVnjyLYXW_G"
   },
   "outputs": [],
   "source": [
    "provinces = pd.DataFrame(\n",
    "    [[\"Antwerp\",\"Antwerpen\",1847.486,2867],\n",
    "    [\"Limburg\",\"Hasselt\",870.880,2422],\n",
    "    [\"East Flanders\",\"Gent\",1505.053,3007],\n",
    "    [\"Flemish Brabant\",\"Leuven\",1138.489,2106],\n",
    "    [\"West Flanders\",\"Brugge\",1191.059,3144],\n",
    "    [\"Hainaut\",\"Mons\",1341.645,3786],\n",
    "    [\"Liege\",\"Liege\",1105.326,3862],\n",
    "    [\"Luxemburg\",\"Arlon\",283.227,4440],\n",
    "    [\"Namur\",\"Namur\",493.073,3666],\n",
    "    [\"Walloon Brabant\",\"Wavre\",401.106,1091],\n",
    "    [\"Brussels Capital-Region\",\"Bruxelles\",1198.726,161]],\n",
    "    columns = [\"Province\",\"Capital\",\"Inhabitants(x1000)\",\"Surface km2\"])"
   ]
  },
  {
   "cell_type": "markdown",
   "metadata": {
    "colab_type": "text",
    "id": "KDlGBR3mXW_L"
   },
   "source": [
    "As you can see from the syntax, we define the data as a list of lists (a matrix), and define the column names.\n",
    "\n",
    "The DataFrame now looks like this:"
   ]
  },
  {
   "cell_type": "code",
   "execution_count": 0,
   "metadata": {
    "colab": {},
    "colab_type": "code",
    "id": "fzjL1EckXW_P"
   },
   "outputs": [],
   "source": [
    "print(provinces)"
   ]
  },
  {
   "cell_type": "markdown",
   "metadata": {
    "colab_type": "text",
    "id": "rtmDAoLYXW_Z"
   },
   "source": [
    "You notice an extra column: the index. Since we didn't specify its form, it has been authomatically created as a series of increasing numbers. \n",
    "\n",
    "We can now ask some basic information from our DataFrame."
   ]
  },
  {
   "cell_type": "code",
   "execution_count": 0,
   "metadata": {
    "colab": {},
    "colab_type": "code",
    "id": "mrFNRiJJXW_d"
   },
   "outputs": [],
   "source": [
    "print(\"Data types:\\n\",provinces.dtypes)\n",
    "print(\"\\nIndices:\\n\",provinces.index)\n",
    "print(\"\\nColumns:\\n\",provinces.columns)"
   ]
  },
  {
   "cell_type": "markdown",
   "metadata": {
    "colab_type": "text",
    "id": "Es6yzQj2XW_k"
   },
   "source": [
    "A quick first analysis of the data can be done with the .describe function. (More advanced functions are described in chapter 4)"
   ]
  },
  {
   "cell_type": "code",
   "execution_count": 0,
   "metadata": {
    "colab": {},
    "colab_type": "code",
    "id": "XQ82lacvXW_m"
   },
   "outputs": [],
   "source": [
    "provinces.describe()"
   ]
  },
  {
   "cell_type": "markdown",
   "metadata": {
    "colab_type": "text",
    "id": "0iPQa_BuXW_2"
   },
   "source": [
    "### Indices and accessing data\n",
    "We can do a few things to make the data easier to access and understand.\n",
    "\n",
    "First we can change the index to contain the province names, and sort them alphabetically."
   ]
  },
  {
   "cell_type": "code",
   "execution_count": 0,
   "metadata": {
    "colab": {},
    "colab_type": "code",
    "id": "jU11RDB3cT3k"
   },
   "outputs": [],
   "source": [
    "clean = provinces.set_index(\"Province\", inplace=False) \n",
    "clean.sort_index(inplace=True)\n",
    "print(clean.head())"
   ]
  },
  {
   "cell_type": "markdown",
   "metadata": {
    "colab_type": "text",
    "id": "MpkGAZiwbjOf"
   },
   "source": [
    "> *The `inplace` paramater allows you to choose to create a new variable to contain the result (`inplace = False` , the default value). Or you can overwrite the current dataframe (`inplace = True`). Be careful though, your original DataFrame is then lost.*\n"
   ]
  },
  {
   "cell_type": "markdown",
   "metadata": {
    "colab_type": "text",
    "id": "w9nBhi0Kr1RH"
   },
   "source": [
    "Now, how can we access a certain element or Series from our dataset? \n",
    "\n",
    "We can access the columns and the indices as follows:\n"
   ]
  },
  {
   "cell_type": "code",
   "execution_count": 0,
   "metadata": {
    "colab": {},
    "colab_type": "code",
    "id": "qLPIRoHEoVtM"
   },
   "outputs": [],
   "source": [
    "print(clean.columns)\n",
    "print(clean.columns[0],'\\n')\n",
    "\n",
    "print(clean.index)\n",
    "print(clean.index[0])"
   ]
  },
  {
   "cell_type": "markdown",
   "metadata": {
    "colab_type": "text",
    "id": "tvTIC_Mypodj"
   },
   "source": [
    "Next we read the Series of values for the Capital column."
   ]
  },
  {
   "cell_type": "code",
   "execution_count": 0,
   "metadata": {
    "colab": {},
    "colab_type": "code",
    "id": "OxZ8fssBpneG"
   },
   "outputs": [],
   "source": [
    "clean.Capital\n",
    "# or clean['Capital']\n",
    "# or clean[clean.columns[0]]  where clean.columns[0] -> 'Capital'"
   ]
  },
  {
   "cell_type": "markdown",
   "metadata": {
    "colab_type": "text",
    "id": "QOxblrPiqWth"
   },
   "source": [
    "And individual items can be accessed next"
   ]
  },
  {
   "cell_type": "code",
   "execution_count": 0,
   "metadata": {
    "colab": {},
    "colab_type": "code",
    "id": "W2UhqKZnqj7k"
   },
   "outputs": [],
   "source": [
    "clean.Capital.Hainaut\n",
    "# or clean['Capital']['Hainaut']"
   ]
  },
  {
   "cell_type": "markdown",
   "metadata": {
    "colab_type": "text",
    "id": "4uxPnb3OiYYH"
   },
   "source": [
    "### Renaming, modifying and adding columns\n",
    "\n",
    "Next we will see a few of the easy tools Pandas provides to alter the columns of your data set.\n",
    "\n",
    "We want to first rename the columns to shorter names.\n",
    "\n"
   ]
  },
  {
   "cell_type": "code",
   "execution_count": 0,
   "metadata": {
    "colab": {},
    "colab_type": "code",
    "id": "886nwSOfhcE_"
   },
   "outputs": [],
   "source": [
    "clean = clean.rename(columns = {\"Inhabitants(x1000)\":\"Inhabitants\", clean.columns[2] : \"Surface\"})\t\t\n",
    "clean.head()"
   ]
  },
  {
   "cell_type": "markdown",
   "metadata": {
    "colab_type": "text",
    "id": "zKuh7pKwkSVA"
   },
   "source": [
    "Next, since we renamed the 2nd column to 'Inhabitants', removing the ''(x1000)'', we should also make the data reflect this change. We can multiply all values by 1000 and change the type to integer. All with one simple line of code:"
   ]
  },
  {
   "cell_type": "code",
   "execution_count": 0,
   "metadata": {
    "colab": {},
    "colab_type": "code",
    "id": "Xm3KPcfflQvk"
   },
   "outputs": [],
   "source": [
    "clean['Inhabitants'] = (clean['Inhabitants']*1000).astype(int)\n",
    "clean.head()"
   ]
  },
  {
   "cell_type": "markdown",
   "metadata": {
    "colab_type": "text",
    "id": "TdgX52-SnTG_"
   },
   "source": [
    "Finally, **adding a new columns** is made easy with Pandas too. \n",
    "\n",
    "We can create a new column containing the average inhabitants per km2, named `Inhabitants\\km2`"
   ]
  },
  {
   "cell_type": "code",
   "execution_count": 0,
   "metadata": {
    "colab": {},
    "colab_type": "code",
    "id": "ec1E7Lm8lOCv"
   },
   "outputs": [],
   "source": [
    "clean['Inhabitants/km2'] = clean['Inhabitants'] / clean['Surface']\n",
    "clean.head()"
   ]
  },
  {
   "cell_type": "markdown",
   "metadata": {
    "colab_type": "text",
    "id": "RzygcIdXhprC"
   },
   "source": [
    "### <a name=\"ex2_1\"></a> Exercise 2.1: Exploring a new data set (*)\n",
    "\n",
    "Time for some exercises! This first exercise is to get you warmed up. Another data set was loaded in a DataFrame object called 'data'. \n",
    "\n",
    "Try to figure out what data it contains. \n",
    "PS. `df.head()` prints the first 5 rows, ideal for a quick inspection.\n",
    "\n",
    "*   Which columns does the data have and of what type are they?\n",
    "*   Print out some general statistics. How many entries does the first column have? And how many the 2nd? Why is that different?\n"
   ]
  },
  {
   "cell_type": "code",
   "execution_count": 0,
   "metadata": {
    "colab": {},
    "colab_type": "code",
    "id": "o9pgrYk_5oDe"
   },
   "outputs": [],
   "source": [
    "#Write your code here"
   ]
  },
  {
   "cell_type": "markdown",
   "metadata": {
    "colab_type": "text",
    "id": "VgUc57y_5oWx"
   },
   "source": [
    "<a href=\"#ex2_1answer\">Answer to Exercise 2.1</a>"
   ]
  },
  {
   "cell_type": "markdown",
   "metadata": {
    "colab_type": "text",
    "id": "JeKm7IzitDOA"
   },
   "source": [
    "### <a name=\"ex2_2\"></a> Exercise 2.2: Re-arranging our data set and retrieving data (*)\n",
    "\n",
    "In this exercise we apply all the skills we learned on changing the columns and their data:\n",
    "\n",
    "*   Make the country into the index (*)  PS> this will help you for the 3rd question\n",
    "*   Give the columns some more suitable, shorter names. (*) Hint: try to use the data.columns series\n",
    "*   Return following figures: (*)\n",
    " * the Consumption per capita of Belgium\n",
    " * total national consumption of China\n",
    " * the remarkable change in consumption in 2015-2016 for the Seychelles\n",
    "\n"
   ]
  },
  {
   "cell_type": "code",
   "execution_count": 0,
   "metadata": {
    "colab": {},
    "colab_type": "code",
    "id": "WNY3nrwT6luW"
   },
   "outputs": [],
   "source": [
    "#Write your code here"
   ]
  },
  {
   "cell_type": "markdown",
   "metadata": {
    "colab_type": "text",
    "id": "eB3NI6u96mWX"
   },
   "source": [
    "<a href=\"#ex2_2answer\">Answer to Exercise 2.2</a>"
   ]
  },
  {
   "cell_type": "markdown",
   "metadata": {
    "colab_type": "text",
    "id": "snTUTd2t_soc"
   },
   "source": [
    "### <a name=\"ex2_3\"></a> Exercise 2.3: Deriving new data (**)\n",
    "\n",
    "* Add a column that estimates the population of a country by comparing the total national consumption with the consumption per capita\n",
    "\n",
    "*Hint: Be careful with the missing values*\n",
    "\n",
    "* Replace the column 'Change 2015-2016' with the actual consumption of 2015\n",
    "\n",
    "*Hint: make the sum of the first and the 2nd columns*"
   ]
  },
  {
   "cell_type": "code",
   "execution_count": 0,
   "metadata": {
    "colab": {},
    "colab_type": "code",
    "id": "SQTw-6ps60cg"
   },
   "outputs": [],
   "source": [
    "#Write your code here"
   ]
  },
  {
   "cell_type": "markdown",
   "metadata": {
    "colab_type": "text",
    "id": "8znhxnDI62SQ"
   },
   "source": [
    "<a href=\"#ex2_3answer\">Answer to Exercise 2.3</a>"
   ]
  },
  {
   "cell_type": "markdown",
   "metadata": {
    "colab_type": "text",
    "id": "z2C3i4yn1eB0"
   },
   "source": [
    "## Chapter 3: Importing and Reading Data from files"
   ]
  },
  {
   "cell_type": "markdown",
   "metadata": {
    "colab_type": "text",
    "id": "H54RyKGev8T4"
   },
   "source": [
    "Importing data is the first step to go in order to do Data Science, Pandas allows you to import data from many different sources files such as CSV or Excel files. In the following exercices we will focus mainly on the Excel and CSV because those are the most common data sources. \n",
    "\n",
    "\n",
    "### Reading files\n",
    "In order to read data from a specific file you have to use the following functions (see code below)\n",
    "\n",
    "Note that the first line of the excel file or the csv file is by default considered as the \"header\" (name of the columns) of the table\n",
    "\n"
   ]
  },
  {
   "cell_type": "markdown",
   "metadata": {
    "colab_type": "text",
    "id": "IFZKPSuhv8T8"
   },
   "source": [
    "From **CSV files**, use the function: \n",
    "```\n",
    "pd.read_csv(<file_name>)\n",
    "```\n",
    "\n",
    "\n",
    "and for **Excel sheets** use: \n",
    "\n",
    "\n",
    "```\n",
    "xls = pd.ExcelFile(<name_of_file>) \n",
    "df1 = pd.read_excel(xls, <sheet_name>)\n",
    "```\n",
    "\n",
    "\n",
    "\n"
   ]
  },
  {
   "cell_type": "code",
   "execution_count": 0,
   "metadata": {
    "colab": {},
    "colab_type": "code",
    "id": "WRZpF9hiv8T-"
   },
   "outputs": [],
   "source": [
    "import pandas as pd\n",
    "!pip install -q --upgrade xlrd\n",
    "\n",
    "xls = pd.ExcelFile('PT.xlsx')\n",
    "df = pd.read_excel(xls, 'PT')\n",
    "df.head()"
   ]
  },
  {
   "cell_type": "markdown",
   "metadata": {
    "colab_type": "text",
    "id": "wcYyMlDUv8US"
   },
   "source": [
    "Note also that by default the empty values are stored as \"NaN\" values"
   ]
  },
  {
   "cell_type": "markdown",
   "metadata": {
    "colab_type": "text",
    "id": "No3ztlwOv8UW"
   },
   "source": [
    "### Filtering\n",
    "In the following exercices you will have at some point to filter, one way of doing it is to use the following code:\n"
   ]
  },
  {
   "cell_type": "code",
   "execution_count": 0,
   "metadata": {
    "colab": {},
    "colab_type": "code",
    "id": "4Ef-K-2bv8UZ"
   },
   "outputs": [],
   "source": [
    "df[df[\"Job_title\"] == \"Assistant Director\"]"
   ]
  },
  {
   "cell_type": "markdown",
   "metadata": {
    "colab_type": "text",
    "id": "UkCQ0JsFv8Uk"
   },
   "source": [
    "Here we are actually asking to get all the lines of the dataframe where the \"Job_title\" equals to \"Assistant Director\".\n",
    "\n",
    "\n",
    "The same process can be applied for different type of filtering. You can create any conditional filter between the first square bracket. Similar to the conditions from Lesson 1 you created for if.. else.. structures.\n"
   ]
  },
  {
   "cell_type": "markdown",
   "metadata": {
    "colab_type": "text",
    "id": "pVyQKlAlv8Un"
   },
   "source": [
    "### Joins\n",
    "\n",
    "For some exercices you will need to do a join between dataframes.\n",
    "\n",
    "There are different types of join but we will focus mainly on the default one: inner join which only returns records that have matching values in both tables. If you want to have more information about the other types of joins check the following website\n",
    "http://www.sql-join.com/sql-join-types/ and if you have questions don't hesitate to ask us!\n",
    "\n",
    "In order to do a join, use the following code:"
   ]
  },
  {
   "cell_type": "code",
   "execution_count": 0,
   "metadata": {
    "colab": {},
    "colab_type": "code",
    "id": "Lf3weV_Ov8Uq"
   },
   "outputs": [],
   "source": [
    "#Creation of two data frame for the example\n",
    "d = {'col1': [1, 2], 'col2': [3, 4]}\n",
    "df = pd.DataFrame(data=d)\n",
    "print(df,\"\\n\")\n",
    "\n",
    "d2 = {'col1': [1, 2], 'info': [\"a\", \"b\"]}\n",
    "df2 = pd.DataFrame(data=d2)\n",
    "print(df2,\"\\n\")\n",
    "pd.merge(df, df2, how=\"inner\", on=\"col1\")"
   ]
  },
  {
   "cell_type": "markdown",
   "metadata": {
    "colab_type": "text",
    "id": "HdMo91pNv8U1"
   },
   "source": [
    "In the above code we are merging the two dataframe. We have to specify the key of the join to \"col1\".\n",
    "\n",
    "If the columns have a different name in the different datasets, we can specify both \"left_on\" and \"right_on\" so that pandas know what are the keys that should be used as index to make the join."
   ]
  },
  {
   "cell_type": "markdown",
   "metadata": {
    "colab_type": "text",
    "id": "NRY_MvFQv8VH"
   },
   "source": [
    "### Execise 3.1 (*)\n",
    "\n",
    "    1) Import the file \"titanic.xls\" and print out the first 5 rows\n",
    "    2) Check the type of one value of the age column\n",
    "\n",
    "*Hint: use the \"type(..)\" function to get the type of this value*"
   ]
  },
  {
   "cell_type": "code",
   "execution_count": 0,
   "metadata": {
    "colab": {},
    "colab_type": "code",
    "id": "_8fqKZwNv8VS"
   },
   "outputs": [],
   "source": [
    "#Write your code here"
   ]
  },
  {
   "cell_type": "markdown",
   "metadata": {
    "colab_type": "text",
    "id": "Yy2sivic-KAR"
   },
   "source": [
    "<a href=\"#ex3_1answer\">Answer to Exercise 3.1</a>"
   ]
  },
  {
   "cell_type": "markdown",
   "metadata": {
    "colab_type": "text",
    "id": "Dx1_z1ZZv8V6"
   },
   "source": [
    "### Exercise 3.2 (**)\n",
    "\n",
    "*   Read the sheet 'PT' and 'PD' from the PT.xlsx and store them in a list or dictionary\n",
    "*   Perform a join between the two data sets on the key \"ZIP\"\n",
    "*   Keep only the persons that are older than 30 years old"
   ]
  },
  {
   "cell_type": "code",
   "execution_count": 0,
   "metadata": {
    "colab": {},
    "colab_type": "code",
    "id": "NCp02GGcv8V-"
   },
   "outputs": [],
   "source": [
    "#Write your code here"
   ]
  },
  {
   "cell_type": "markdown",
   "metadata": {
    "colab_type": "text",
    "id": "CGlGI_K8-ONV"
   },
   "source": [
    "<a href=\"#ex3_2answer\">Answer to Exercise 3.2</a>"
   ]
  },
  {
   "cell_type": "markdown",
   "metadata": {
    "colab_type": "text",
    "id": "pgl6BBnRv8Wn"
   },
   "source": [
    "### Exercise 3.3 (***)\n",
    "   In the \"titanic.xls\" file, among the people that survived, compute the average age of man and the average age of woman.  \n",
    "   \n",
    "   tips: use the len() function for getting the number of lines, and sum() for the total sum "
   ]
  },
  {
   "cell_type": "code",
   "execution_count": 0,
   "metadata": {
    "colab": {},
    "colab_type": "code",
    "id": "Z2AU7uRuv8W1"
   },
   "outputs": [],
   "source": [
    "#Write your code here"
   ]
  },
  {
   "cell_type": "markdown",
   "metadata": {
    "colab_type": "text",
    "id": "wTxr5ltVv8XC"
   },
   "source": [
    "### Exercise 3.4 (***)\n",
    "    In the \"PT.xlsx\", count the amount of people that lives in one of the communes of Bruxelles\n",
    "\n",
    "tips: \n",
    "    - Use the dataframe function \"isin\" to check wether a values of a dataframe exists in a list\n",
    "    - Use join operation and use the \"len()\" function for getting the amount of lines in the resulting dataframe\n",
    "\n",
    "\n",
    "Note : In the tab \"PD\" there is an information concerning the ZIP.\n",
    "\n",
    "The following list contains all the <Comunes> from Bruxelles that exists in this sheet"
   ]
  },
  {
   "cell_type": "code",
   "execution_count": 0,
   "metadata": {
    "colab": {},
    "colab_type": "code",
    "id": "Fn-9Acvav8XG"
   },
   "outputs": [],
   "source": [
    "list_communes = [\n",
    "\"Bruxelles\",\n",
    "\"Jette\",\n",
    "\"Berchem\",\n",
    "\"Auderghem\",\n",
    "\"Bruxelles-Capitale\",\n",
    "\"Haren\",\n",
    "\"uccle\",\n",
    "\"Evere\",\n",
    "\"Etterbeck\",\n",
    "\"Forest\",\n",
    "\"Ganshoren\",\n",
    "\"Ixelles\",\n",
    "\"Koekelberg\",\n",
    "\"Molenbeek\",\n",
    "\"Saint-Gilles\",\n",
    "\"Saint-Josse-ten-Noode\",\n",
    "\"Schaerbeek\",\n",
    "\"Watermael-Boitsfort\",\n",
    "\"Woluwe-Saint-Lambert\",\n",
    "\"Woluwe-Saint-Pierre\",\n",
    "\"Anvers\",\n",
    "\"Liege\",\n",
    "\"Hainaut\",\n",
    "\"Laeken\",\n",
    "\"Neder-Over-Heembeek\"]"
   ]
  },
  {
   "cell_type": "markdown",
   "metadata": {
    "colab_type": "text",
    "id": "HQuH5jGLlBMp"
   },
   "source": [
    "Finally, we can store our new data in a new CSV, by calling `df.to_csv()`"
   ]
  },
  {
   "cell_type": "markdown",
   "metadata": {
    "colab_type": "text",
    "id": "nzBp2V801thd"
   },
   "source": [
    "## Chapter 4: Using the power of Numpy - statistics, filtering and more\n",
    "\n",
    "The real strength of working with Pandas to make complex computations and working with large / huge data sets is its integration with the **NumPy and SciPy library**. Any DataFrame and Series object of Pandas can also use the functions available to NumPy/SciPy arrays and matrices\n",
    "\n",
    "We will now explore what we can do with these two libraries in combination with our data stored in a Pandas DataFrame.\n",
    "\n",
    "\n",
    "---\n"
   ]
  },
  {
   "cell_type": "code",
   "execution_count": 0,
   "metadata": {
    "colab": {},
    "colab_type": "code",
    "id": "ThMGWAXMLB7W"
   },
   "outputs": [],
   "source": [
    "import numpy as np\n",
    "import scipy as sp"
   ]
  },
  {
   "cell_type": "markdown",
   "metadata": {
    "colab_type": "text",
    "id": "hTaqs43PTa6k"
   },
   "source": [
    "Let's reload our set of anonomized user data, this time without the first 2 columns."
   ]
  },
  {
   "cell_type": "code",
   "execution_count": 0,
   "metadata": {
    "colab": {},
    "colab_type": "code",
    "id": "hl9qiNbQTeav"
   },
   "outputs": [],
   "source": [
    "pt = pd.read_excel(\"PT.xlsx\", usecols=\"C:G\") # We remove the first 2 columns by specifying the `usecols` param)\n",
    "print(\"Index:\",pt.index,\"\\n\")\n",
    "pt.head()"
   ]
  },
  {
   "cell_type": "markdown",
   "metadata": {
    "colab_type": "text",
    "id": "sL1edrwlSxo6"
   },
   "source": [
    "### Filtering data - part 2\n",
    "\n",
    "Filtering data is a very useful tool in many real-life scenarios. Pandas allows us to write a condition as if it was key to access data. An example makes this clear: we filter out the data of people between the age of 25 & 60."
   ]
  },
  {
   "cell_type": "code",
   "execution_count": 0,
   "metadata": {
    "colab": {},
    "colab_type": "code",
    "id": "_ZEuSEY-UJGq"
   },
   "outputs": [],
   "source": [
    "target_group = pt[(pt['Age'] >= 25) & (pt['Age'] <= 65)]\n",
    "target_group.head()"
   ]
  },
  {
   "cell_type": "markdown",
   "metadata": {
    "colab_type": "text",
    "id": "KfBIcePMJJ8q"
   },
   "source": [
    "### Mean values"
   ]
  },
  {
   "cell_type": "markdown",
   "metadata": {
    "colab_type": "text",
    "id": "RoiIccjQRo4N"
   },
   "source": [
    "Finding the average over a whole column (or row) can be done with Numpy's `.mean()`\n",
    "\n"
   ]
  },
  {
   "cell_type": "code",
   "execution_count": 0,
   "metadata": {
    "colab": {},
    "colab_type": "code",
    "id": "oucNkRUDRpsA"
   },
   "outputs": [],
   "source": [
    "pt.mean()"
   ]
  },
  {
   "cell_type": "markdown",
   "metadata": {
    "colab_type": "text",
    "id": "GwveuCMbWC9K"
   },
   "source": [
    "It can also be called upon a single column (Series) of values"
   ]
  },
  {
   "cell_type": "code",
   "execution_count": 0,
   "metadata": {
    "colab": {},
    "colab_type": "code",
    "id": "t4sieg-rVmmu"
   },
   "outputs": [],
   "source": [
    "youth = pt[pt['Age'] <= 25]\n",
    "youth['Age'].mean()"
   ]
  },
  {
   "cell_type": "markdown",
   "metadata": {
    "colab_type": "text",
    "id": "WRy1PomlSnqW"
   },
   "source": [
    "### Extracting unique values\n",
    "We can extract and evaluate how many unique values a data set contains. For instance:"
   ]
  },
  {
   "cell_type": "code",
   "execution_count": 0,
   "metadata": {
    "colab": {},
    "colab_type": "code",
    "id": "ExpIW-q8YZ0C"
   },
   "outputs": [],
   "source": [
    "print(\"Count of unique job titles:\",pt.Job_title.unique().size)\n"
   ]
  },
  {
   "cell_type": "markdown",
   "metadata": {
    "colab_type": "text",
    "id": "xQpyz0iCYaHt"
   },
   "source": [
    "You can also choose to retrieve the actual counts of each unique element with litle extra effort:"
   ]
  },
  {
   "cell_type": "code",
   "execution_count": 0,
   "metadata": {
    "colab": {},
    "colab_type": "code",
    "id": "GrKAXqnOW1tM"
   },
   "outputs": [],
   "source": [
    "unique, counts = np.unique(pt.Department, return_counts=True)\n",
    "print(np.asarray((unique, counts)).T)"
   ]
  },
  {
   "cell_type": "markdown",
   "metadata": {
    "colab_type": "text",
    "id": "K0EjnklHSgNo"
   },
   "source": [
    "### Grouping\n",
    "\n",
    "Grouping allows us to merge entries with a common field together. We just found or employee data span over about 30 different departments. It would be interesting to see how their average age and wage compare.\n",
    "\n",
    "Let's see how we can de that with Pandas."
   ]
  },
  {
   "cell_type": "code",
   "execution_count": 0,
   "metadata": {
    "colab": {},
    "colab_type": "code",
    "id": "AEM2J3-WhGlx"
   },
   "outputs": [],
   "source": [
    "by_department = pt.groupby( [\"Department\"] )\n",
    "by_department.mean().head()\n"
   ]
  },
  {
   "cell_type": "markdown",
   "metadata": {
    "colab_type": "text",
    "id": "lMU4Xg6uOQup"
   },
   "source": [
    "### Sorting our data\n",
    "\n",
    "Finally one last trick to organize your data: sorting.\n",
    "\n",
    "You can sort your data by index, column or (as demonstrated here) by explicitly selecting a series of values. "
   ]
  },
  {
   "cell_type": "code",
   "execution_count": 0,
   "metadata": {
    "colab": {},
    "colab_type": "code",
    "id": "bhK4dqYNORMy"
   },
   "outputs": [],
   "source": [
    "  sorted_pt = pt.sort_values(by='Age', ascending=False)\n",
    "  print(sorted_pt.head())\n",
    "  sorted_pt.tail()\n"
   ]
  },
  {
   "cell_type": "markdown",
   "metadata": {
    "colab_type": "text",
    "id": "eIjDZrjav8bk"
   },
   "source": [
    "### Data set: male first name statistics in Belgium\n",
    "\n",
    "For the first exercises we introduce a new data set containing the names of people by community"
   ]
  },
  {
   "cell_type": "code",
   "execution_count": 0,
   "metadata": {
    "colab": {},
    "colab_type": "code",
    "id": "Oo9oxyOwv8bn"
   },
   "outputs": [],
   "source": [
    "names = pd.read_excel(\"data/first_names_be_male.xlsx\")\n",
    "names.head()"
   ]
  },
  {
   "cell_type": "markdown",
   "metadata": {
    "colab_type": "text",
    "id": "6jx-PDL1v8bz"
   },
   "source": [
    "### <a name=\"ex4_1\"></a> Exercise 4.1 : Male First Names of Belgium (**)\n",
    "\n",
    "From our new data set we can find some interesting facts on first names in Belgium.\n",
    "\n",
    "* First, find the size of this dataset. What is the minimum value of the MS_FREQUENCY column, and what does this tell you?\n",
    "* How many unique names does our dataset contain?\n",
    "* Use a groupBy to find how many communities have people called Gabriel? Can you also find the total sum? (Hint. Replace .count() with .sum())\n",
    "* Now try to find how many people have your name in your city. You will have to create a double index, or use filter. Ideally, use both methods!\n",
    "* We are now only interested in names that at least 100 people in Belgium have. Use the appropriate filter. How many names do you have left?\n",
    "* What are the 5 most popular names in Belgium? Print them out\n"
   ]
  },
  {
   "cell_type": "code",
   "execution_count": 0,
   "metadata": {
    "colab": {},
    "colab_type": "code",
    "id": "rMn9KvDg8Zl9"
   },
   "outputs": [],
   "source": [
    "# write your answer here"
   ]
  },
  {
   "cell_type": "markdown",
   "metadata": {
    "colab_type": "text",
    "id": "bCBNJsy88YnB"
   },
   "source": [
    "<a href=\"#ex4_1answer\">Answer to Exercise 4.1</a>"
   ]
  },
  {
   "cell_type": "markdown",
   "metadata": {
    "colab_type": "text",
    "id": "Ur7WhkT4v8c0"
   },
   "source": [
    "### <a name=\"ex4_2\"></a> Exercise 4.2: What we can learn from the Titanic dataset (**)\n",
    "\n",
    "* How many people does the set contain? How many survived, what percentage is this?\n",
    "* Group the people by their class. Is there a difference in average survival changes?\n",
    "* Filter out only the females of above 50. Did they have a higher change to survive?\n",
    "* What is the average ticket price for each class?"
   ]
  },
  {
   "cell_type": "code",
   "execution_count": 0,
   "metadata": {
    "colab": {},
    "colab_type": "code",
    "id": "TuPEkU-98dSZ"
   },
   "outputs": [],
   "source": [
    "# write your answer here"
   ]
  },
  {
   "cell_type": "markdown",
   "metadata": {
    "colab_type": "text",
    "id": "l3NMJUZk8fX1"
   },
   "source": [
    "<a href=\"#ex4_2answer\">Answer to Exercise 4.2</a> Not available yet"
   ]
  },
  {
   "cell_type": "markdown",
   "metadata": {
    "colab_type": "text",
    "id": "7IZU_gQZGVe_"
   },
   "source": [
    "## Chapter 5: Extra exercises"
   ]
  },
  {
   "cell_type": "markdown",
   "metadata": {
    "colab_type": "text",
    "id": "lNVXFA7SkGDO"
   },
   "source": [
    "We found another data set containing all countries and the continent they belong to. Combined with the beer dataset from chapter 2, and the knowledge gathered above, we can derive some interesting statistics."
   ]
  },
  {
   "cell_type": "code",
   "execution_count": 0,
   "metadata": {
    "colab": {},
    "colab_type": "code",
    "id": "OI5GTZotGkSk"
   },
   "outputs": [],
   "source": [
    "beer = pd.read_csv(\"new_data.csv\",sep=\";\")\n",
    "\n",
    "country_continents = pd.read_csv(\"countryContinent.csv\",sep=\",\", encoding='latin-1')\n",
    "country_continents.head()\n"
   ]
  },
  {
   "cell_type": "markdown",
   "metadata": {
    "colab_type": "text",
    "id": "X_2lTnrOklR5"
   },
   "source": [
    "### Exercise 5.1: combine all your knowledge: Beer challenge (***)\n",
    "\n",
    "\n",
    "*   Remove the unnecessary data from the continents data set, keep only the country name and continent (use a slice, remove columns or copy paste..)\n",
    "*   Join the data from this table and the beer consumption one by 'Country'\n",
    "*  Which continent drinks on average the most? Use a 'groupBy' to find the answer\n",
    "*  Create and print a list of countries that drink more than 50 L per capita\n",
    "\n"
   ]
  },
  {
   "cell_type": "code",
   "execution_count": 0,
   "metadata": {
    "colab": {},
    "colab_type": "code",
    "id": "af3j79v83Tj-"
   },
   "outputs": [],
   "source": []
  },
  {
   "cell_type": "markdown",
   "metadata": {
    "colab_type": "text",
    "id": "4d1rENgl3T0e"
   },
   "source": []
  },
  {
   "cell_type": "markdown",
   "metadata": {
    "colab_type": "text",
    "id": "R1EPbMNcJF2h"
   },
   "source": [
    "### Exercise 5.2: the climate of Belgium (**)\n",
    "\n",
    "One last data set to explore.\n",
    "\n",
    "\n",
    "*   Average the max temperature for the period 2011 - 2017, how does it compare to the average temperate in general\n",
    "*   Create a new column, combining the winter and frost days and call it 'Indoor days', and summer + heat days to a new column 'Outdoor days'\n",
    "*  Changee th sunshine column to have a format ## days, ## hours \n",
    "\n"
   ]
  },
  {
   "cell_type": "code",
   "execution_count": 0,
   "metadata": {
    "colab": {},
    "colab_type": "code",
    "id": "7K4TRZalXW__"
   },
   "outputs": [],
   "source": [
    "climate = pd.read_csv(\"climate_belgium.csv\",sep=\";\")\n",
    "climate.set_index(\"Parameter\",inplace=True)\n",
    "climate = climate.transpose()\n",
    "\n",
    "print(climate.index.values)\n",
    "climate.head()"
   ]
  },
  {
   "cell_type": "markdown",
   "metadata": {
    "colab_type": "text",
    "id": "GmArxnCfFuNp"
   },
   "source": [
    "## Answers for the exercises"
   ]
  },
  {
   "cell_type": "markdown",
   "metadata": {
    "colab_type": "text",
    "id": "pVkcfx1gFuNp"
   },
   "source": [
    "<a name=\"ex2_1answer\">Answer to Exercise 2.1</a>"
   ]
  },
  {
   "cell_type": "code",
   "execution_count": 0,
   "metadata": {
    "colab": {},
    "colab_type": "code",
    "id": "iQQKgZPBicp-"
   },
   "outputs": [],
   "source": [
    "data = pd.read_csv(\"new_data.csv\",sep=\";\")\n",
    "\n",
    "print(\"First 5 lines:\\n\",data.head())\n",
    "print(\"\\nData types:\\n\",data.dtypes)\n",
    "print(\"\\nDescribe:\\n\",data.describe())"
   ]
  },
  {
   "cell_type": "markdown",
   "metadata": {
    "colab_type": "text",
    "id": "iS8LlnYUFuNs"
   },
   "source": [
    "<a href=\"#ex2_1\">Back to Exercise 2.1</a>\n",
    "\n",
    "<a name=\"ex2_2answer\">Answer to Exercise 2.2</a>"
   ]
  },
  {
   "cell_type": "code",
   "execution_count": 0,
   "metadata": {
    "colab": {},
    "colab_type": "code",
    "id": "KCo-2LWxubYi"
   },
   "outputs": [],
   "source": [
    "ex22 = data.set_index('Country') # part 1\n",
    "ex22.columns = ['Consumption pc','Trend','Total (10^6 L)','Year'] # part 2\n",
    "ex22.head()"
   ]
  },
  {
   "cell_type": "code",
   "execution_count": 0,
   "metadata": {
    "colab": {},
    "colab_type": "code",
    "id": "DtQCfFPpyACp"
   },
   "outputs": [],
   "source": [
    "print(ex22['Consumption pc']['Belgium'])\n",
    "print(ex22[ex22.columns[2]]['China'])\n",
    "print(ex22.Trend.Seychelles)"
   ]
  },
  {
   "cell_type": "markdown",
   "metadata": {
    "colab_type": "text",
    "id": "PX350MFn6Z-_"
   },
   "source": [
    "<a href=\"#ex2_2\">Back to Exercise 2.2</a>\n",
    "\n",
    "<a name=\"ex2_3answer\">Answer to Exercise 2.3</a>"
   ]
  },
  {
   "cell_type": "code",
   "execution_count": 0,
   "metadata": {
    "colab": {},
    "colab_type": "code",
    "id": "r1Omev8u4xoL"
   },
   "outputs": [],
   "source": [
    "ex22['Population (est)'] = ex22[ex22.columns[2]]/ex22[ex22.columns[0]]*(10**6)\n",
    "\n",
    "print(ex22['Population (est)'].head())\n",
    "print(ex22['Population (est)']['Belgium'])  # seems like a good estimate to me!"
   ]
  },
  {
   "cell_type": "markdown",
   "metadata": {
    "colab_type": "text",
    "id": "lT3NKjyz7NKY"
   },
   "source": [
    "<a href=\"#ex2_3\">Back to Exercise 2.3</a>\n",
    "\n",
    "<a name=\"ex3_1answer\">Answer to Exercise 3.1</a>"
   ]
  },
  {
   "cell_type": "code",
   "execution_count": 7,
   "metadata": {
    "colab": {},
    "colab_type": "code",
    "id": "d1TqB78n7Tws"
   },
   "outputs": [
    {
     "data": {
      "text/plain": [
       "numpy.float64"
      ]
     },
     "execution_count": 7,
     "metadata": {},
     "output_type": "execute_result"
    }
   ],
   "source": [
    "import pandas as pd\n",
    "xls = pd.ExcelFile('titanic.xls')\n",
    "df1 = pd.read_excel(xls, 'titanic3')\n",
    "#1) print the result\n",
    "df1.head(5)\n",
    "#OR\n",
    "df1.iloc[:5]\n",
    "\n",
    "#2) get type of one value\n",
    "type(df1[\"age\"][0])"
   ]
  },
  {
   "cell_type": "markdown",
   "metadata": {
    "colab_type": "text",
    "id": "df4c50lJ9bob"
   },
   "source": [
    "<a href=\"#ex3_1\">Back to Exercise 3.1</a>\n",
    "\n",
    "<a name=\"ex3_2answer\">Answer to Exercise 3.2</a>"
   ]
  },
  {
   "cell_type": "code",
   "execution_count": 9,
   "metadata": {
    "colab": {},
    "colab_type": "code",
    "id": "mMJwq-Am9ejp"
   },
   "outputs": [],
   "source": [
    "#1) Read the sheet 'PT' and 'PD' from the PT.xlsx and store them in a list or dictionary\n",
    "import pandas as pd\n",
    "xls = pd.ExcelFile('PT.xlsx')\n",
    "df1 = pd.read_excel(xls, 'PT')\n",
    "df2 = pd.read_excel(xls, 'PD')\n",
    "tables = {\"PT\": df1, \"PD\": df2}"
   ]
  },
  {
   "cell_type": "markdown",
   "metadata": {
    "colab_type": "text",
    "id": "o9FhgmXg9i2g"
   },
   "source": [
    "OR"
   ]
  },
  {
   "cell_type": "code",
   "execution_count": 12,
   "metadata": {
    "colab": {},
    "colab_type": "code",
    "id": "0FwpRQTd9jG6"
   },
   "outputs": [
    {
     "name": "stdout",
     "output_type": "stream",
     "text": [
      "{'PT':      Last_Name First_Name                            Department  \\\n",
      "0            *          *                  Utilities/Laboratory   \n",
      "1            *          *            Housing & Neighborhood Dev   \n",
      "2            *          *                                Police   \n",
      "3            *          *                    Parks & Recreation   \n",
      "4            *          *                    Parks & Recreation   \n",
      "5            *          *                    Parks & Recreation   \n",
      "6            *          *                    Parks & Recreation   \n",
      "7            *          *            Economic & Sustainable Dev   \n",
      "8            *          *                                Police   \n",
      "9            *          *                                Street   \n",
      "10           *          *           Planning and Transportation   \n",
      "11           *          *  Utilities/Department of the Director   \n",
      "12           *          *                                Police   \n",
      "13           *          *                                Police   \n",
      "14           *          *                                Police   \n",
      "15           *          *                                Police   \n",
      "16           *          *           Utilities/Dillman Road WWTP   \n",
      "17           *          *                                  Fire   \n",
      "18           *          *                    Parks & Recreation   \n",
      "19           *          *                            Controller   \n",
      "20           *          *                                  Fire   \n",
      "21           *          *                    Parks & Recreation   \n",
      "22           *          *                    Parks & Recreation   \n",
      "23           *          *            Housing & Neighborhood Dev   \n",
      "24           *          *                                  Fire   \n",
      "25           *          *                                Street   \n",
      "26           *          *                                Street   \n",
      "27           *          *                                  Fire   \n",
      "28           *          *                                Police   \n",
      "29           *          *                    Parks & Recreation   \n",
      "...        ...        ...                                   ...   \n",
      "1255         *          *                    Parks & Recreation   \n",
      "1256         *          *                 Utilities/Engineering   \n",
      "1257         *          *          Utilities/Blucher Poole WWTP   \n",
      "1258         *          *                 Utilities/Engineering   \n",
      "1259         *          *                      Utilities/Meters   \n",
      "1260         *          *                    Parks & Recreation   \n",
      "1261         *          *                                Police   \n",
      "1262         *          *                   Office of the Mayor   \n",
      "1263         *          *                                Police   \n",
      "1264         *          *                                Police   \n",
      "1265         *          *                    Parks & Recreation   \n",
      "1266         *          *          Community & Family Resources   \n",
      "1267         *          *            Housing & Neighborhood Dev   \n",
      "1268         *          *                    Parks & Recreation   \n",
      "1269         *          *                                Street   \n",
      "1270         *          *                                Street   \n",
      "1271         *          *          Community & Family Resources   \n",
      "1272         *          *            Housing & Neighborhood Dev   \n",
      "1273         *          *           Utilities/Dillman Road WWTP   \n",
      "1274         *          *                                  Fire   \n",
      "1275         *          *                    Parks & Recreation   \n",
      "1276         *          *                Board of Public Safety   \n",
      "1277         *          *                     Fleet Maintenance   \n",
      "1278         *          *                                Police   \n",
      "1279         *          *                                  Fire   \n",
      "1280         *          *                  Utilities/Purchasing   \n",
      "1281         *          *                                Police   \n",
      "1282         *          *                                  Fire   \n",
      "1283         *          *                          Public Works   \n",
      "1284         *          *                  Utilities/Stormwater   \n",
      "\n",
      "                             Job_title  Salary  Age  ZIP  \n",
      "0                              Chemist   59660   98   66  \n",
      "1                             Director   17337   15   55  \n",
      "2                 Senior Police Offcer   60124   77   59  \n",
      "3                            BP-ATT-GF     599   28   97  \n",
      "4                            BP-ATT-GF    1698   23   20  \n",
      "5                      BP-LIFEGUARD-GF    3699   83  100  \n",
      "6                          BBCC-SUP-NR    2255    9   64  \n",
      "7                             Director   16807   50    0  \n",
      "8                  Officer First Class   61078   58   40  \n",
      "9      Master Motor Equipment Operator   44689   86   54  \n",
      "10          Public Improvement Manager   54849   44   35  \n",
      "11     Administrative Asst to Director   37357   78   33  \n",
      "12                         Team Leader   41105   48   87  \n",
      "13                            Sergeant   62397   70   57  \n",
      "14                      Crossing Guard     966   48   18  \n",
      "15                Senior Police Offcer   60491   79   85  \n",
      "16           Wastewater Plant Operator   37071    3   77  \n",
      "17                             Captain   68133   77   10  \n",
      "18                           BP-ATT-GF     483   61    8  \n",
      "19                              Intern    7193   10   45  \n",
      "20               Firefighter 1st Class   63669   25   91  \n",
      "21                  BP-STAFF ASSIST-GF    3729   46   67  \n",
      "22                       AJB-ATT-KC-NR    3489   60   10  \n",
      "23     Neighborhood Compliance Officer   45025   88   26  \n",
      "24               Firefighter 1st Class   12055   77   33  \n",
      "25                             Laborer   42949   30   41  \n",
      "26                     Deputy Director   51906   93    8  \n",
      "27                            Sergeant   64465   99   21  \n",
      "28                Senior Police Offcer   59754   73   91  \n",
      "29                     GOLF PRO-SUP-GF    1686   96   52  \n",
      "...                                ...     ...  ...  ...  \n",
      "1255                     ADMIN-SPEC-GF    1688   81   51  \n",
      "1256                   GIS Coordinator   54085   37    9  \n",
      "1257         Wastewater Plant Operator   39542   90   55  \n",
      "1258                            Intern    2372   47   66  \n",
      "1259                      Meter Reader    4663   11   23  \n",
      "1260                       ATT-GOLF-GF    2630   87   26  \n",
      "1261       Parking Enforcement Officer    9408   96   43  \n",
      "1262                            Intern    4633   60   19  \n",
      "1263     Telecommunications Supervisor   60450   27   82  \n",
      "1264       Probationary Police Officer   20367   76   38  \n",
      "1265                         MP-ATT-GF    2808   65   37  \n",
      "1266       Health Projects Coordinator   54844   90    1  \n",
      "1267                   Program Manager   49818   27   42  \n",
      "1268                     AJB-SUP-KC-NR      36   31    1  \n",
      "1269  Asset Clerk/Emergency Grant Coor   42109   64   10  \n",
      "1270   Master Motor Equipment Operator   30903   58   28  \n",
      "1271                            Intern    1415   43   24  \n",
      "1272               Rental Specialist 2   28112   50   74  \n",
      "1273        Plant Maintenance Mechanic   43980   66   52  \n",
      "1274             Firefighter 1st Class   61621   31   95  \n",
      "1275                         BP-ATT-GF     581   21   59  \n",
      "1276        Public Safety Board Member     634   25   12  \n",
      "1277         Fleet Maintenance Manager   61292   55   63  \n",
      "1278       Parking Enforcement Officer   34955   45   36  \n",
      "1279             Firefighter 1st Class   58088   85   96  \n",
      "1280             Inventory Coordinator   30721   16   96  \n",
      "1281             Senior Police Officer   62238   42   95  \n",
      "1282                           Captain   66769   56   33  \n",
      "1283         Public Works Board Member      80   57   79  \n",
      "1284                           Lineman   43029   46   86  \n",
      "\n",
      "[1285 rows x 7 columns], 'PD':     ZIP            Information\n",
      "0    66              Bruxelles\n",
      "1    55                  Jette\n",
      "2    59                Berchem\n",
      "3    97              Auderghem\n",
      "4    20     Bruxelles-Capitale\n",
      "5   100                  Haren\n",
      "6    64                  uccle\n",
      "7     0                  Evere\n",
      "8    40              Etterbeck\n",
      "9    54                 Forest\n",
      "10   35              Ganshoren\n",
      "11   33                Ixelles\n",
      "12   87             Koekelberg\n",
      "13   57              Molenbeek\n",
      "14   18           Saint-Gilles\n",
      "15   85  Saint-Josse-ten-Noode\n",
      "16   77             Schaerbeek\n",
      "17   10    Watermael-Boitsfort\n",
      "18    8   Woluwe-Saint-Lambert\n",
      "19   45    Woluwe-Saint-Pierre\n",
      "20   91                 Anvers\n",
      "21   67                  Liege\n",
      "22   26                Hainaut\n",
      "23   41                 Laeken\n",
      "24   21    Neder-Over-Heembeek\n",
      "25   52                   Gand\n",
      "26   13                 Bruges\n",
      "27   37                  Namur\n",
      "28   48                  Paris\n",
      "29    2                Unknown\n",
      "30   36                 Nantes\n",
      "31   49             Montpelier\n",
      "32   86                Germany\n",
      "33   79            Netherlands\n",
      "34   30                Tournai\n",
      "35   71                 Ostend\n",
      "36   78               Mechelen\n",
      "37   16             Marseilles\n",
      "38   50                   Lyon\n",
      "39   68               Bordeaux\n",
      "40    6                   Nice\n",
      "41   46               Grenoble\n",
      "42   75                 Angers\n",
      "43   80                Algerie\n",
      "44   81                  Lille\n",
      "45   39               Beyrouth\n",
      "46   65             Strasbourg\n",
      "47   42              Amsterdam\n",
      "48   70                  Rouen\n",
      "49   93                  Tours\n",
      "50   96               Toulouse\n",
      "51   82                  Nimes\n",
      "52   62                   Caen\n",
      "53   63                Le Mans\n",
      "54    1              Perpignan\n",
      "55   51                  Nancy\n",
      "56   72                   Metz\n",
      "57   43                Limoges}\n"
     ]
    }
   ],
   "source": [
    "import pandas as pd\n",
    "xls = pd.ExcelFile('PT.xlsx')\n",
    "list_sheet = xls.sheet_names\n",
    "tables = {}\n",
    "for sheet in list_sheet:\n",
    "    df1 = pd.read_excel(xls, sheet)\n",
    "    tables[sheet] = df1\n",
    "print(tables)"
   ]
  },
  {
   "cell_type": "code",
   "execution_count": 18,
   "metadata": {},
   "outputs": [
    {
     "name": "stdout",
     "output_type": "stream",
     "text": [
      "236\n"
     ]
    }
   ],
   "source": [
    "#2) Perform a join between the two data sets on the key \"ZIP\"\n",
    "merged_df = pd.merge(tables[\"PT\"],tables[\"PD\"], how=\"inner\", left_on = \"ZIP\", right_on = \"ZIP\")\n",
    "\n",
    "#3) Keep only the persons that are older than 30 years old\n",
    "\n",
    "filtered_df = merged_df[merged_df[\"Age\"] > 30]\n",
    "\n",
    "\n",
    "#Note that you can also count the number of values that have been throwed away\n",
    "print(len(merged_df)-len(filtered_df))\n",
    "#=> 236 were not satisfying the condition"
   ]
  },
  {
   "cell_type": "markdown",
   "metadata": {
    "colab_type": "text",
    "id": "d87FGT179zlc"
   },
   "source": [
    "\n",
    "<a name=\"ex3_3answer\">Answer to Exercise 3.3</a>"
   ]
  },
  {
   "cell_type": "code",
   "execution_count": 32,
   "metadata": {},
   "outputs": [
    {
     "name": "stdout",
     "output_type": "stream",
     "text": [
      "Average age of  female :  25.681661946902654\n",
      "Average age of  male :  22.62111801242236\n"
     ]
    }
   ],
   "source": [
    "#1) Importing the \"titanic.xls\" file\n",
    "import pandas as pd\n",
    "xls = pd.ExcelFile('titanic.xls')\n",
    "df1 = pd.read_excel(xls, 'titanic3')\n",
    "df1\n",
    "\n",
    "\n",
    "#2) Take only the people that survived \n",
    "survived = df1[df1[\"survived\"] == 1]                    \n",
    "\n",
    "#3) compute the average age of man and the average age of woman.\n",
    "for sex in [\"female\",\"male\"]:\n",
    "    subset = survived[survived[\"sex\"] == sex]\n",
    "    age_column = subset[\"age\"]\n",
    "    average = age_column.sum()/len(age_column)\n",
    "    print(\"Average age of \",sex,\": \",average)\n"
   ]
  },
  {
   "cell_type": "markdown",
   "metadata": {
    "colab_type": "text",
    "id": "DQ7jdrcH9zwZ"
   },
   "source": [
    "\n",
    "<a name=\"ex3_4answer\">Answer to Exercise 3.4</a>"
   ]
  },
  {
   "cell_type": "code",
   "execution_count": 38,
   "metadata": {},
   "outputs": [
    {
     "name": "stdout",
     "output_type": "stream",
     "text": [
      "323\n"
     ]
    }
   ],
   "source": [
    "#In the \"PT.xlsx\", count the amount of people that lives in one of the communes of Bruxelles\n",
    "#tips: Use join operation and use the \"count()\" function for getting the amount of lines in the resulting dataframe\n",
    "\n",
    "import pandas as pd\n",
    "#Store the tables in a dictionnary\n",
    "xls = pd.ExcelFile('PT.xlsx')\n",
    "list_sheet = xls.sheet_names\n",
    "tables = {}\n",
    "for sheet in list_sheet:\n",
    "    df1 = pd.read_excel(xls, sheet)\n",
    "    tables[sheet] = df1\n",
    "    \n",
    "#take the provided list    \n",
    "list_communes = [\n",
    "\"Bruxelles\",\n",
    "\"Jette\",\n",
    "\"Berchem\",\n",
    "\"Auderghem\",\n",
    "\"Bruxelles-Capitale\",\n",
    "\"Haren\",\n",
    "\"uccle\",\n",
    "\"Evere\",\n",
    "\"Etterbeck\",\n",
    "\"Forest\",\n",
    "\"Ganshoren\",\n",
    "\"Ixelles\",\n",
    "\"Koekelberg\",\n",
    "\"Molenbeek\",\n",
    "\"Saint-Gilles\",\n",
    "\"Saint-Josse-ten-Noode\",\n",
    "\"Schaerbeek\",\n",
    "\"Watermael-Boitsfort\",\n",
    "\"Woluwe-Saint-Lambert\",\n",
    "\"Woluwe-Saint-Pierre\",\n",
    "\"Anvers\",\n",
    "\"Liege\",\n",
    "\"Hainaut\",\n",
    "\"Laeken\",\n",
    "\"Neder-Over-Heembeek\"]\n",
    "pd_table = tables[\"PD\"]\n",
    "filtered_pd_table = pd_table[pd_table[\"Information\"].isin(list_communes)]\n",
    "merged_df = pd.merge(tables[\"PT\"],filtered_pd_table, how=\"inner\", left_on = \"ZIP\", right_on = \"ZIP\")\n",
    "print(len(merged_df))"
   ]
  },
  {
   "cell_type": "markdown",
   "metadata": {
    "colab_type": "text",
    "id": "LmrTbEd172ML"
   },
   "source": [
    "\n",
    "<a name=\"ex4_1answer\">Answer to Exercise 4.1</a>"
   ]
  },
  {
   "cell_type": "code",
   "execution_count": 0,
   "metadata": {
    "colab": {},
    "colab_type": "code",
    "id": "NuHXiGS5v8b3"
   },
   "outputs": [],
   "source": [
    "print(names.index.size)\n",
    "print(names.info()) \n",
    "print(names.describe())\n"
   ]
  },
  {
   "cell_type": "code",
   "execution_count": 0,
   "metadata": {
    "colab": {},
    "colab_type": "code",
    "id": "-01svSE9v8cP"
   },
   "outputs": [],
   "source": [
    "names_grouped = names.groupby( [\"TX_FST_NAME\" ])\n",
    "print(\"Places with people called Gabriel:\", names_grouped.count()['MS_FREQUENCY']['Gabriel'])\n",
    "print(\"Total number pf people called Jeroen:\",names_grouped.sum()['MS_FREQUENCY']['Jeroen'])"
   ]
  },
  {
   "cell_type": "code",
   "execution_count": 0,
   "metadata": {
    "colab": {},
    "colab_type": "code",
    "id": "UsSeQpRJ7-oL"
   },
   "outputs": [],
   "source": []
  },
  {
   "cell_type": "markdown",
   "metadata": {
    "colab_type": "text",
    "id": "o0BOVkzK8BRY"
   },
   "source": [
    "<a href=\"#ex4_1\">Back to Exercise 4.1</a>\n",
    "\n",
    "<a name=\"ex4_2answer\">Answer to Exercise 4.2</a>"
   ]
  },
  {
   "cell_type": "code",
   "execution_count": 0,
   "metadata": {
    "colab": {},
    "colab_type": "code",
    "id": "DD7RqnKi8JZ4"
   },
   "outputs": [],
   "source": []
  },
  {
   "cell_type": "markdown",
   "metadata": {
    "colab_type": "text",
    "id": "NgQmmNhv8pSg"
   },
   "source": [
    "<a href=\"#ex4_2\">Back to Exercise 4.2</a>"
   ]
  }
 ],
 "metadata": {
  "colab": {
   "collapsed_sections": [
    "hxnlm1zGkWYu",
    "nz5xTeQeaJEJ",
    "JbVnRLZoaJEf",
    "BQtbfU59aJEz",
    "Dyc2f-4caJFH"
   ],
   "name": "DS_Python_Workshop_2_v6_Jeroen.ipynb",
   "provenance": [],
   "toc_visible": true,
   "version": "0.3.2"
  },
  "kernelspec": {
   "display_name": "Python 3",
   "language": "python",
   "name": "python3"
  },
  "language_info": {
   "codemirror_mode": {
    "name": "ipython",
    "version": 3
   },
   "file_extension": ".py",
   "mimetype": "text/x-python",
   "name": "python",
   "nbconvert_exporter": "python",
   "pygments_lexer": "ipython3",
   "version": "3.7.0"
  }
 },
 "nbformat": 4,
 "nbformat_minor": 1
}
